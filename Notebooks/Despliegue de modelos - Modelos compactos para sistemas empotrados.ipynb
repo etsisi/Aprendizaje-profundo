{
 "cells": [
  {
   "cell_type": "markdown",
   "metadata": {},
   "source": [
    "<div style=\"vertical-align:middle\">\n",
    "<img width=\"170\" style=\"float: right;\" src=\"https://www.upm.es/sfs/Rectorado/Gabinete%20del%20Rector/Logos/EU_Informatica/ETSI%20SIST_INFORM_COLOR.png\" alt=\"ETSISI logo\" />\n",
    "<h1>Modelos compactos para sistemas empotrados<a id=\"top\"></a></h1>\n",
    "<i><small>Fuentes: <a href=\"https://github.com/etsisi/Robotica\">github.com/etsisi/Robotica</a><br>Última actualización: 2023-10-21</i>\n",
    "</div>\n",
    "<hr>"
   ]
  },
  {
   "cell_type": "markdown",
   "metadata": {},
   "source": [
    "## Introducción"
   ]
  },
  {
   "cell_type": "markdown",
   "metadata": {},
   "source": [
    "El aprendizaje automático (ML, del inglés _Machine Learning_) ha encontrado aplicaciones en una amplia variedad de campos, revolucionando la forma en que se resuelven los problemas y se toman decisiones. Sin embargo, la mayoría de las aplicaciones de ML tradicionales dependen de grandes infraestructuras (local o en la nube) para el entrenamiento y la inferencia. En contraste, TinyML se refiere a la práctica de ejecutar modelos de aprendizaje automático en dispositivos de borde (<i>edge computing</i>) con recursos limitados, como microcontroladores.\n",
    "\n",
    "La ventaja de TinyML radica en su capacidad para llevar la inteligencia de la máquina directamente a los dispositivos de borde, permitiendo la inferencia en tiempo real con baja latencia y preservación de la privacidad, ya que los datos no necesitan ser transmitidos a un servidor central para su procesamiento. Además, TinyML puede operar en condiciones de conectividad limitada o nula, lo cual es crucial en muchos escenarios del mundo real."
   ]
  },
  {
   "cell_type": "markdown",
   "metadata": {},
   "source": [
    "### Objetivos"
   ]
  },
  {
   "cell_type": "markdown",
   "metadata": {},
   "source": [
    "El propósito de este notebook es proporcionar una comprensión práctica del flujo de trabajo involucrado en un proyecto TinyML. Los objetivos específicos incluyen:\n",
    "\n",
    "1. **Entendimiento del Proceso de Creación del Modelo:** Lo cual ya hemos explorado en los anteriores <i>notebooks</i>,\n",
    "2. **Conversión del Modelo a TensorFlow Lite:** Convertir el modelo entrenado a un formato que pueda ser ejecutado en microcontroladores usando TensorFlow Lite.\n",
    "3. **Cuantización del Modelo:**, Explorar la cuantización del modelo para reducir el tamaño del modelo, lo cual es vital para la implementación en determinados dispositivos con recursos limitados.\n",
    "\n",
    "Al final de este notebook, deberías tener una comprensión clara de cómo se puede desarrollar un modelo de aprendizaje automático, convertirlo para su uso en microcontroladores, y optimizar su tamaño a través de la cuantización, facilitando así su implementación en dispositivos de borde."
   ]
  },
  {
   "cell_type": "markdown",
   "metadata": {},
   "source": [
    "## Bibliotecas y configuración"
   ]
  },
  {
   "cell_type": "markdown",
   "metadata": {},
   "source": [
    "Comenzaremos instalando las bibliotecas necesarias. Esto sólo es necesario en el caso de que no tengamos el entorno ya creado."
   ]
  },
  {
   "cell_type": "code",
   "execution_count": null,
   "metadata": {},
   "outputs": [],
   "source": [
    "!pip install matplotlib\n",
    "!pip install numpy\n",
    "!pip install pandas\n",
    "!pip install tensorflow"
   ]
  },
  {
   "cell_type": "markdown",
   "metadata": {},
   "source": [
    "A continuación importaremos las bibliotecas que se utilizarán a lo largo del notebook."
   ]
  },
  {
   "cell_type": "code",
   "execution_count": 1,
   "metadata": {},
   "outputs": [
    {
     "name": "stderr",
     "output_type": "stream",
     "text": [
      "2023-10-19 09:40:37.366826: I tensorflow/tsl/cuda/cudart_stub.cc:28] Could not find cuda drivers on your machine, GPU will not be used.\n",
      "2023-10-19 09:40:37.403092: E tensorflow/compiler/xla/stream_executor/cuda/cuda_dnn.cc:9342] Unable to register cuDNN factory: Attempting to register factory for plugin cuDNN when one has already been registered\n",
      "2023-10-19 09:40:37.403120: E tensorflow/compiler/xla/stream_executor/cuda/cuda_fft.cc:609] Unable to register cuFFT factory: Attempting to register factory for plugin cuFFT when one has already been registered\n",
      "2023-10-19 09:40:37.403142: E tensorflow/compiler/xla/stream_executor/cuda/cuda_blas.cc:1518] Unable to register cuBLAS factory: Attempting to register factory for plugin cuBLAS when one has already been registered\n",
      "2023-10-19 09:40:37.409529: I tensorflow/tsl/cuda/cudart_stub.cc:28] Could not find cuda drivers on your machine, GPU will not be used.\n",
      "2023-10-19 09:40:37.410490: I tensorflow/core/platform/cpu_feature_guard.cc:182] This TensorFlow binary is optimized to use available CPU instructions in performance-critical operations.\n",
      "To enable the following instructions: AVX2 FMA, in other operations, rebuild TensorFlow with the appropriate compiler flags.\n",
      "2023-10-19 09:40:38.368927: W tensorflow/compiler/tf2tensorrt/utils/py_utils.cc:38] TF-TRT Warning: Could not find TensorRT\n"
     ]
    }
   ],
   "source": [
    "import os\n",
    "import zipfile\n",
    "\n",
    "import matplotlib.pyplot as plt\n",
    "import numpy as np\n",
    "import pandas as pd\n",
    "import tensorflow as tf"
   ]
  },
  {
   "cell_type": "markdown",
   "metadata": {},
   "source": [
    "Forzamos algunos parámetros de configuración"
   ]
  },
  {
   "cell_type": "code",
   "execution_count": 2,
   "metadata": {},
   "outputs": [],
   "source": [
    "%matplotlib inline\n",
    "plt.style.use('ggplot')\n",
    "plt.rcParams.update({'figure.figsize': (20, 6),'figure.dpi': 64})\n",
    "\n",
    "os.environ[\"CUDA_VISIBLE_DEVICES\"] = \"\"  # Usar CPU"
   ]
  },
  {
   "cell_type": "markdown",
   "metadata": {},
   "source": [
    "***"
   ]
  },
  {
   "cell_type": "markdown",
   "metadata": {
    "id": "qHKBJBaXrwxO"
   },
   "source": [
    "## Preparación del conjunto de datos"
   ]
  },
  {
   "cell_type": "markdown",
   "metadata": {},
   "source": [
    "Ya conocemos el conjunto de datos MNIST. Ahora procederemos a:\n",
    "\n",
    "1. Cargar conjuntos de datos de entrenamiento y test,\n",
    "2. Normalizar valores de entrada al intervalo $[0, 1]$,\n",
    "3. Añadir una nueva dimensión que represente el único canal de color porque vamos a usar una red convolucional.\n",
    "\n",
    "No transformaremos las etiquetas del dataset ya que usaremos la versión _sparse_ del _loss_ de la entropía cruzada."
   ]
  },
  {
   "cell_type": "code",
   "execution_count": 3,
   "metadata": {},
   "outputs": [
    {
     "name": "stdout",
     "output_type": "stream",
     "text": [
      "Downloading data from https://storage.googleapis.com/tensorflow/tf-keras-datasets/mnist.npz\n",
      "11490434/11490434 [==============================] - 2s 0us/step\n",
      "Dimensiones entrenamiento: (60000, 28, 28, 1) input, (60000,) output\n",
      "Dimensiones test:          (10000, 28, 28, 1) input, (10000,) output\n"
     ]
    }
   ],
   "source": [
    "# Descarga de datos\n",
    "(x_train, y_train), (x_test, y_test) = tf.keras.datasets.mnist.load_data()\n",
    "# Normalización\n",
    "x_train, x_test = x_train / 255.0, x_test / 255.0\n",
    "# Nueva dimensión\n",
    "x_train, x_test = x_train[..., np.newaxis], x_test[..., np.newaxis]\n",
    "\n",
    "print(f'Dimensiones entrenamiento: {x_train.shape} input, {y_train.shape} output')\n",
    "print(f'Dimensiones test:          {x_test.shape} input, {y_test.shape} output')"
   ]
  },
  {
   "cell_type": "markdown",
   "metadata": {},
   "source": [
    "## Modelo de predicción"
   ]
  },
  {
   "cell_type": "markdown",
   "metadata": {
    "id": "ZN0Oe5S-kulZ"
   },
   "source": [
    "Crearemos una red de convolución normal similar a la del anterior ejemplo, usando para ellos capas de convolución, _pooling_, _flatten_ y densas. Aprovecharemos la función `create_model` para devolver el modelo ya compilado."
   ]
  },
  {
   "cell_type": "code",
   "execution_count": 4,
   "metadata": {
    "colab": {
     "background_save": true
    },
    "id": "JA0gzRxikDeU"
   },
   "outputs": [
    {
     "name": "stdout",
     "output_type": "stream",
     "text": [
      "Model: \"model\"\n",
      "_________________________________________________________________\n",
      " Layer (type)                Output Shape              Param #   \n",
      "=================================================================\n",
      " input_1 (InputLayer)        [(None, 28, 28, 1)]       0         \n",
      "                                                                 \n",
      " conv2d (Conv2D)             (None, 26, 26, 32)        320       \n",
      "                                                                 \n",
      " conv2d_1 (Conv2D)           (None, 24, 24, 32)        9248      \n",
      "                                                                 \n",
      " max_pooling2d (MaxPooling2  (None, 12, 12, 32)        0         \n",
      " D)                                                              \n",
      "                                                                 \n",
      " flatten (Flatten)           (None, 4608)              0         \n",
      "                                                                 \n",
      " dropout (Dropout)           (None, 4608)              0         \n",
      "                                                                 \n",
      " dense (Dense)               (None, 10)                46090     \n",
      "                                                                 \n",
      "=================================================================\n",
      "Total params: 55658 (217.41 KB)\n",
      "Trainable params: 55658 (217.41 KB)\n",
      "Non-trainable params: 0 (0.00 Byte)\n",
      "_________________________________________________________________\n"
     ]
    }
   ],
   "source": [
    "def create_model():\n",
    "    # Creación del grafo que representa a la red\n",
    "    input = tf.keras.Input(shape=(28, 28, 1))\n",
    "    output = tf.keras.layers.Conv2D(32, (3, 3), activation='relu')(input)\n",
    "    output = tf.keras.layers.Conv2D(32, (3, 3), activation='relu')(output)\n",
    "    output = tf.keras.layers.MaxPooling2D((2, 2))(output)\n",
    "    output = tf.keras.layers.Flatten()(output)\n",
    "    output = tf.keras.layers.Dropout(0.5)(output)\n",
    "    output = tf.keras.layers.Dense(10, activation='softmax')(output)\n",
    "    # Modelo que especifica qué nodos del grafo son los de entrada y de salida\n",
    "    model = tf.keras.Model(input, output)\n",
    "    # Compilación del modelo\n",
    "    model.compile(\n",
    "        loss=tf.keras.losses.SparseCategoricalCrossentropy(),\n",
    "        optimizer=tf.keras.optimizers.Adam(),\n",
    "        metrics=[tf.keras.metrics.SparseCategoricalAccuracy()]\n",
    "    )\n",
    "    \n",
    "    return model \n",
    "\n",
    "model = create_model()\n",
    "model.summary()"
   ]
  },
  {
   "cell_type": "markdown",
   "metadata": {
    "id": "t4LUTAfUsN20"
   },
   "source": [
    "Ahora entrenaremos el modelo durante 10 epochs para que esté ajustado al problema. Esta vez usaremos un split del conjunto de validación un poco más pequeño y un tamaño de batch más grande."
   ]
  },
  {
   "cell_type": "code",
   "execution_count": 5,
   "metadata": {},
   "outputs": [
    {
     "name": "stdout",
     "output_type": "stream",
     "text": [
      "Epoch 1/10\n",
      "1688/1688 [==============================] - 41s 24ms/step - loss: 0.1965 - sparse_categorical_accuracy: 0.9405 - val_loss: 0.0618 - val_sparse_categorical_accuracy: 0.9817\n",
      "Epoch 2/10\n",
      "1688/1688 [==============================] - 40s 24ms/step - loss: 0.0799 - sparse_categorical_accuracy: 0.9762 - val_loss: 0.0557 - val_sparse_categorical_accuracy: 0.9848\n",
      "Epoch 3/10\n",
      "1688/1688 [==============================] - 41s 24ms/step - loss: 0.0641 - sparse_categorical_accuracy: 0.9795 - val_loss: 0.0523 - val_sparse_categorical_accuracy: 0.9842\n",
      "Epoch 4/10\n",
      "1688/1688 [==============================] - 40s 24ms/step - loss: 0.0546 - sparse_categorical_accuracy: 0.9827 - val_loss: 0.0436 - val_sparse_categorical_accuracy: 0.9873\n",
      "Epoch 5/10\n",
      "1688/1688 [==============================] - 41s 24ms/step - loss: 0.0459 - sparse_categorical_accuracy: 0.9857 - val_loss: 0.0427 - val_sparse_categorical_accuracy: 0.9887\n",
      "Epoch 6/10\n",
      "1688/1688 [==============================] - 41s 24ms/step - loss: 0.0434 - sparse_categorical_accuracy: 0.9864 - val_loss: 0.0365 - val_sparse_categorical_accuracy: 0.9903\n",
      "Epoch 7/10\n",
      "1688/1688 [==============================] - 41s 24ms/step - loss: 0.0396 - sparse_categorical_accuracy: 0.9871 - val_loss: 0.0386 - val_sparse_categorical_accuracy: 0.9900\n",
      "Epoch 8/10\n",
      "1688/1688 [==============================] - 41s 24ms/step - loss: 0.0373 - sparse_categorical_accuracy: 0.9878 - val_loss: 0.0359 - val_sparse_categorical_accuracy: 0.9915\n",
      "Epoch 9/10\n",
      "1688/1688 [==============================] - 41s 24ms/step - loss: 0.0336 - sparse_categorical_accuracy: 0.9892 - val_loss: 0.0354 - val_sparse_categorical_accuracy: 0.9907\n",
      "Epoch 10/10\n",
      "1688/1688 [==============================] - 42s 25ms/step - loss: 0.0326 - sparse_categorical_accuracy: 0.9891 - val_loss: 0.0375 - val_sparse_categorical_accuracy: 0.9900\n"
     ]
    }
   ],
   "source": [
    "history = model.fit(x_train, y_train, epochs=10, batch_size=32, validation_split=0.1)"
   ]
  },
  {
   "cell_type": "markdown",
   "metadata": {
    "id": "S65WKzIUlIDZ"
   },
   "source": [
    "Veamos cómo ha progresado el entrenamiento."
   ]
  },
  {
   "cell_type": "code",
   "execution_count": 6,
   "metadata": {
    "colab": {
     "base_uri": "https://localhost:8080/"
    },
    "executionInfo": {
     "elapsed": 41588,
     "status": "ok",
     "timestamp": 1666289947488,
     "user": {
      "displayName": "Punto",
      "userId": "10186899819214684786"
     },
     "user_tz": -120
    },
    "id": "qMdV9mRVlFTi",
    "outputId": "1ad894a6-4af1-4d94-e19b-6dfcc7e44d11"
   },
   "outputs": [
    {
     "data": {
      "image/png": "[encoded data removed]",
      "text/plain": [
       "<Figure size 1280x384 with 1 Axes>"
      ]
     },
     "metadata": {},
     "output_type": "display_data"
    }
   ],
   "source": [
    "pd.DataFrame(history.history).plot()\n",
    "plt.xlabel('Epoch num.')\n",
    "plt.show()"
   ]
  },
  {
   "cell_type": "markdown",
   "metadata": {},
   "source": [
    "Independientemente de lo bueno o malo que parezca, vamos a seguir con este modelo.\n",
    "\n",
    "Antes de nada salvaremos el modelo a fichero para realizar comparativas; para ello usaremos el método `save` del propio modelo. Antiguamente el formato de salvado era el HDF5. De hecho se puede seguir usando, aunque se considera _legacy_ y en algún momento desaparecerá de la biblioteca.\n",
    "\n",
    "El formato actual, `.keras`, es un fichero zip que contiene la arquitectura (fichero `config.json`), los pesos (fichero `model.weights.h5`) y demás metainformación (fichero `metadata.json`) del modelo. Esto nos permite, entre otros, salvar y cargar el modelo en estadios intermedios de un entrenamiento, por ejemplo."
   ]
  },
  {
   "cell_type": "code",
   "execution_count": 7,
   "metadata": {},
   "outputs": [],
   "source": [
    "BASE_MODEL = 'base_model.keras'\n",
    "\n",
    "model.save(BASE_MODEL)"
   ]
  },
  {
   "cell_type": "markdown",
   "metadata": {},
   "source": [
    "Veamos el contenido del fichero y cuánto ocupa."
   ]
  },
  {
   "cell_type": "code",
   "execution_count": 9,
   "metadata": {},
   "outputs": [
    {
     "name": "stdout",
     "output_type": "stream",
     "text": [
      "Tamaño de \"base_model.keras\": 686.83 KiB\n",
      "Contenidos del fichero:  ['metadata.json', 'config.json', 'model.weights.h5']\n"
     ]
    }
   ],
   "source": [
    "print(f'Tamaño de \"{BASE_MODEL}\": {os.path.getsize(BASE_MODEL) / 1024:.5} KiB')\n",
    "zip = zipfile.ZipFile(BASE_MODEL)\n",
    "print(f'Contenidos del fichero:  {zip.namelist()}')"
   ]
  },
  {
   "cell_type": "markdown",
   "metadata": {},
   "source": [
    "## Conversión a TFLite"
   ]
  },
  {
   "cell_type": "markdown",
   "metadata": {},
   "source": [
    "El primer paso para convertir un modelo entrenado de TensorFlow (vale, en keras, pero usando como _backend_ TensorFlow) es la creación del objeto convertidor de la clase `TFLiteConverter`. Este objeto será el responsable de llevar a cabo la conversión del modelo."
   ]
  },
  {
   "cell_type": "code",
   "execution_count": 10,
   "metadata": {},
   "outputs": [],
   "source": [
    "converter = tf.lite.TFLiteConverter.from_keras_model(model)"
   ]
  },
  {
   "cell_type": "markdown",
   "metadata": {},
   "source": [
    "Ahora podemos proceder a converir el modelo a formato TFLite."
   ]
  },
  {
   "cell_type": "code",
   "execution_count": 11,
   "metadata": {},
   "outputs": [
    {
     "name": "stdout",
     "output_type": "stream",
     "text": [
      "INFO:tensorflow:Assets written to: /tmp/tmpj691ada5/assets\n"
     ]
    },
    {
     "name": "stderr",
     "output_type": "stream",
     "text": [
      "INFO:tensorflow:Assets written to: /tmp/tmpj691ada5/assets\n",
      "2023-10-19 09:56:10.995314: W tensorflow/compiler/mlir/lite/python/tf_tfl_flatbuffer_helpers.cc:378] Ignored output_format.\n",
      "2023-10-19 09:56:10.995333: W tensorflow/compiler/mlir/lite/python/tf_tfl_flatbuffer_helpers.cc:381] Ignored drop_control_dependency.\n",
      "2023-10-19 09:56:10.996171: I tensorflow/cc/saved_model/reader.cc:83] Reading SavedModel from: /tmp/tmpj691ada5\n",
      "2023-10-19 09:56:10.997401: I tensorflow/cc/saved_model/reader.cc:51] Reading meta graph with tags { serve }\n",
      "2023-10-19 09:56:10.997410: I tensorflow/cc/saved_model/reader.cc:146] Reading SavedModel debug info (if present) from: /tmp/tmpj691ada5\n",
      "2023-10-19 09:56:11.000101: I tensorflow/compiler/mlir/mlir_graph_optimization_pass.cc:382] MLIR V1 optimization pass is not enabled\n",
      "2023-10-19 09:56:11.000978: I tensorflow/cc/saved_model/loader.cc:233] Restoring SavedModel bundle.\n",
      "2023-10-19 09:56:11.046687: I tensorflow/cc/saved_model/loader.cc:217] Running initialization op on SavedModel bundle at path: /tmp/tmpj691ada5\n",
      "2023-10-19 09:56:11.061114: I tensorflow/cc/saved_model/loader.cc:316] SavedModel load for tags { serve }; Status: success: OK. Took 64924 microseconds.\n",
      "2023-10-19 09:56:11.100170: I tensorflow/compiler/mlir/tensorflow/utils/dump_mlir_util.cc:269] disabling MLIR crash reproducer, set env var `MLIR_CRASH_REPRODUCER_DIRECTORY` to enable.\n"
     ]
    }
   ],
   "source": [
    "tflite_model = converter.convert()"
   ]
  },
  {
   "cell_type": "markdown",
   "metadata": {},
   "source": [
    "En este paso, ejecutamos la conversión del modelo utilizando el método `convert` del objeto convertidor. Esto genera un modelo en formato TFLite que es adecuado para ejecutarse en dispositivos como microcontroladores.\n",
    "\n",
    "Este objeto se puede salvar a fichero trabajando como con cualquier objeto binario."
   ]
  },
  {
   "cell_type": "code",
   "execution_count": 12,
   "metadata": {},
   "outputs": [],
   "source": [
    "TFLITE_MODEL = 'tfl_model.tflite'\n",
    "\n",
    "with open(TFLITE_MODEL, 'wb') as f:\n",
    "    f.write(tflite_model)"
   ]
  },
  {
   "cell_type": "markdown",
   "metadata": {},
   "source": [
    "Veamos la diferencia en tamañode ambos ficheros."
   ]
  },
  {
   "cell_type": "code",
   "execution_count": 14,
   "metadata": {},
   "outputs": [
    {
     "name": "stdout",
     "output_type": "stream",
     "text": [
      "base_model.keras: 686.83 KiB\n",
      "tfl_model.tflite: 220.05 KiB\n"
     ]
    }
   ],
   "source": [
    "for file in (BASE_MODEL, TFLITE_MODEL):\n",
    "    print(f'{file}: {os.path.getsize(file) / 1024:.5} KiB')"
   ]
  },
  {
   "cell_type": "markdown",
   "metadata": {},
   "source": [
    "Bueno, más de un $50\\%$ de reducción, bastante bien."
   ]
  },
  {
   "cell_type": "markdown",
   "metadata": {},
   "source": [
    "## Cuantización del modelo"
   ]
  },
  {
   "cell_type": "markdown",
   "metadata": {},
   "source": [
    "La cuantización es un proceso que puede reducir significativamente tanto el tamaño del modelo como el tiempo de ejecución, con una pequeña pérdida en la precisión. Esto es especialmente útil en el contexto de TinyML, donde los recursos son limitados.\n",
    "\n",
    "Existen varias opciones de cuantización. Aquí nos centraremos en dos de tipo **post-entrenamiento** ofrecidas por TFLite. La **cuantización consciente del entrenamiento** o QAT (del inglés _Quantization Aware Training_) se basa en simular la cuantización de los pesos y activaciones durante el entrenamiento; de esta manera el modelo aprende a compensar la pérdida de precisión que ocurre durante la cuantización, resultando en un modelo cuantizado con una precisión mucho más cercana al modelo original de punto flotante. Sin embargo este proceso es más complejo y va más allá del alcance de este _notebook_.\n",
    "\n",
    "La cuantización **post-entrenamiento** es un proceso que convierte los los valores de punto flotante a valores enteros después del entrenamiento. Esto puede reducir el tamaño del modelo y mejorar el rendimiento sin necesidad de reentrenar el modelo."
   ]
  },
  {
   "cell_type": "markdown",
   "metadata": {},
   "source": [
    "### Cuantización estática\n",
    "\n",
    "Convierte los pesos del modelo y de las funciones de activación de punto flotante a valores enteros después del entrenamiento. Esto generalmente reduce el tamaño del modelo y mejora su rendimiento, aunque a costa de una pérdida de precisión.\n",
    "\n",
    "Se configura a través de un parámetro de optimización (`Optimize.DEFAULT`) del converter. Crearemos un nuevo fichero con el modelo comprimido con esta configuración."
   ]
  },
  {
   "cell_type": "code",
   "execution_count": 15,
   "metadata": {},
   "outputs": [
    {
     "name": "stdout",
     "output_type": "stream",
     "text": [
      "INFO:tensorflow:Assets written to: /tmp/tmp9ume1obr/assets\n"
     ]
    },
    {
     "name": "stderr",
     "output_type": "stream",
     "text": [
      "INFO:tensorflow:Assets written to: /tmp/tmp9ume1obr/assets\n",
      "2023-10-19 10:00:50.198567: W tensorflow/compiler/mlir/lite/python/tf_tfl_flatbuffer_helpers.cc:378] Ignored output_format.\n",
      "2023-10-19 10:00:50.198584: W tensorflow/compiler/mlir/lite/python/tf_tfl_flatbuffer_helpers.cc:381] Ignored drop_control_dependency.\n",
      "2023-10-19 10:00:50.198811: I tensorflow/cc/saved_model/reader.cc:83] Reading SavedModel from: /tmp/tmp9ume1obr\n",
      "2023-10-19 10:00:50.200157: I tensorflow/cc/saved_model/reader.cc:51] Reading meta graph with tags { serve }\n",
      "2023-10-19 10:00:50.200168: I tensorflow/cc/saved_model/reader.cc:146] Reading SavedModel debug info (if present) from: /tmp/tmp9ume1obr\n",
      "2023-10-19 10:00:50.203249: I tensorflow/cc/saved_model/loader.cc:233] Restoring SavedModel bundle.\n",
      "2023-10-19 10:00:50.242630: I tensorflow/cc/saved_model/loader.cc:217] Running initialization op on SavedModel bundle at path: /tmp/tmp9ume1obr\n",
      "2023-10-19 10:00:50.256543: I tensorflow/cc/saved_model/loader.cc:316] SavedModel load for tags { serve }; Status: success: OK. Took 57733 microseconds.\n"
     ]
    }
   ],
   "source": [
    "TFLITE_STATIC_QUANT_MODEL = 'tsq_model.tflite'\n",
    "\n",
    "# Creación del convertidor y configuración\n",
    "converter = tf.lite.TFLiteConverter.from_keras_model(model)\n",
    "converter.optimizations = [tf.lite.Optimize.DEFAULT]\n",
    "\n",
    "# Convertimos el modelo\n",
    "tflite_static_quant_model = converter.convert()\n",
    "\n",
    "# Salvado a fichero\n",
    "with open(TFLITE_STATIC_QUANT_MODEL, 'wb') as f:\n",
    "    f.write(tflite_static_quant_model)"
   ]
  },
  {
   "cell_type": "markdown",
   "metadata": {},
   "source": [
    "### Cuantización dinámica"
   ]
  },
  {
   "cell_type": "markdown",
   "metadata": {},
   "source": [
    "Convierte los pesos a enteros pero mantiene las activaciones en punto flotante. Esto es útil para ciertos modelos y puede proporcionar un equilibrio entre tamaño, rendimiento y precisión.\n",
    "\n",
    "Al igual que con la estática, la dinámica se configura a través de un parámetro de optimización (`Optimize.OPTIMIZE_FOR_LATENCY`) del converter. Crearemos también un fichero con esta configuración."
   ]
  },
  {
   "cell_type": "code",
   "execution_count": 16,
   "metadata": {},
   "outputs": [
    {
     "name": "stderr",
     "output_type": "stream",
     "text": [
      "WARNING:absl:Optimization option OPTIMIZE_FOR_LATENCY is deprecated, please use optimizations=[Optimize.DEFAULT] instead.\n"
     ]
    },
    {
     "name": "stdout",
     "output_type": "stream",
     "text": [
      "INFO:tensorflow:Assets written to: /tmp/tmphag5639i/assets\n"
     ]
    },
    {
     "name": "stderr",
     "output_type": "stream",
     "text": [
      "INFO:tensorflow:Assets written to: /tmp/tmphag5639i/assets\n",
      "WARNING:absl:Optimization option OPTIMIZE_FOR_LATENCY is deprecated, please use optimizations=[Optimize.DEFAULT] instead.\n",
      "WARNING:absl:Optimization option OPTIMIZE_FOR_LATENCY is deprecated, please use optimizations=[Optimize.DEFAULT] instead.\n",
      "2023-10-19 10:00:53.600949: W tensorflow/compiler/mlir/lite/python/tf_tfl_flatbuffer_helpers.cc:378] Ignored output_format.\n",
      "2023-10-19 10:00:53.600983: W tensorflow/compiler/mlir/lite/python/tf_tfl_flatbuffer_helpers.cc:381] Ignored drop_control_dependency.\n",
      "2023-10-19 10:00:53.601358: I tensorflow/cc/saved_model/reader.cc:83] Reading SavedModel from: /tmp/tmphag5639i\n",
      "2023-10-19 10:00:53.603745: I tensorflow/cc/saved_model/reader.cc:51] Reading meta graph with tags { serve }\n",
      "2023-10-19 10:00:53.603767: I tensorflow/cc/saved_model/reader.cc:146] Reading SavedModel debug info (if present) from: /tmp/tmphag5639i\n",
      "2023-10-19 10:00:53.610434: I tensorflow/cc/saved_model/loader.cc:233] Restoring SavedModel bundle.\n",
      "2023-10-19 10:00:53.666632: I tensorflow/cc/saved_model/loader.cc:217] Running initialization op on SavedModel bundle at path: /tmp/tmphag5639i\n",
      "2023-10-19 10:00:53.679566: I tensorflow/cc/saved_model/loader.cc:316] SavedModel load for tags { serve }; Status: success: OK. Took 78210 microseconds.\n"
     ]
    }
   ],
   "source": [
    "TFLITE_DYNAMIC_QUANT_MODEL = 'tdq_model.tflite'\n",
    "\n",
    "# Creación del convertidor y configuración\n",
    "converter = tf.lite.TFLiteConverter.from_keras_model(model)\n",
    "converter.optimizations = [tf.lite.Optimize.OPTIMIZE_FOR_LATENCY]\n",
    "\n",
    "# Convertimos el modelo\n",
    "tflite_dynamic_quant_model = converter.convert()\n",
    "\n",
    "# Salvado a fichero\n",
    "with open(TFLITE_DYNAMIC_QUANT_MODEL, 'wb') as f:\n",
    "    f.write(tflite_dynamic_quant_model)"
   ]
  },
  {
   "cell_type": "markdown",
   "metadata": {},
   "source": [
    "### Comparación de espacio en disco\n",
    "\n",
    "A continuación se muestra el tamaño ocupado por cada uno de los diferentes ficheros de modelo."
   ]
  },
  {
   "cell_type": "code",
   "execution_count": 17,
   "metadata": {},
   "outputs": [
    {
     "name": "stdout",
     "output_type": "stream",
     "text": [
      "base_model.keras: 686.827 KiB\n",
      "tfl_model.tflite: 220.055 KiB\n",
      "tsq_model.tflite: 58.5391 KiB\n",
      "tdq_model.tflite: 58.5391 KiB\n"
     ]
    }
   ],
   "source": [
    "for file in (\n",
    "    BASE_MODEL,\n",
    "    TFLITE_MODEL,\n",
    "    TFLITE_STATIC_QUANT_MODEL,\n",
    "    TFLITE_DYNAMIC_QUANT_MODEL,\n",
    "): \n",
    "    print(f'{file}: {os.path.getsize(file) / 1024:.6} KiB')"
   ]
  },
  {
   "cell_type": "markdown",
   "metadata": {},
   "source": [
    "Curiosamente el modelo es el mismo (o al menos equivalente en tamaño) en las dos versiones cuantizadas. Eso sí, ocupan $10$ veces menos que el modelo original, lo cual es un gran logro."
   ]
  },
  {
   "cell_type": "markdown",
   "metadata": {},
   "source": [
    "## Conclusiones"
   ]
  },
  {
   "cell_type": "markdown",
   "metadata": {},
   "source": [
    "Hemos navegado por los distintos pasos involucrados en la preparación y optimización de un modelo de aprendizaje automático para dispositivos de borde bajo el paradigma de TinyML. Los puntos clave obtenidos son los siguientes:\n",
    "\n",
    "- Un buen dataset y una buena arquitectura son cruciales para el éxito del proyecto. Un modelo bien entrenado y validado es el punto de partida para cualquier proyecto TinyML.\n",
    "- La conversión del modelo a TensorFlow Lite es un paso esencial para preparar el modelo para su ejecución en microcontroladores. Es de fácil implementación haciendo uso de convertidores, los cuales nos transforman un modelo de TensorFlow a un formato compatible con dispositivos _de frontera_.\n",
    "- La cuantización es una técnica muy valiosa para reducir el tamaño del modelo y acelerar la inferencia, lo que es crucial para el desempeño en dispositivos con recursos limitados. Exploramos la cuantización post-entrenamiento, que es una forma eficaz y sencilla de cuantizar un modelo sin la necesidad de reentrenamiento.\n",
    "\n",
    "Este proyecto proporciona una base sólida para explorar más a fondo cómo TinyML puede desbloquear nuevas capacidades en dispositivos de _edge computing_ y cómo podemos continuar optimizando y desplegando modelos de aprendizaje automático en hardware con recursos limitados."
   ]
  },
  {
   "cell_type": "markdown",
   "metadata": {
    "id": "UaneBW10p6JH"
   },
   "source": [
    "***\n",
    "\n",
    "<div><img style=\"float: right; width: 120px; vertical-align:top\" src=\"https://mirrors.creativecommons.org/presskit/buttons/88x31/png/by-nc-sa.png\" alt=\"Creative Commons by-nc-sa logo\" />\n",
    "\n",
    "[Volver al inicio](#top)\n",
    "\n",
    "</div>"
   ]
  }
 ],
 "metadata": {
  "accelerator": "GPU",
  "colab": {
   "provenance": [
    {
     "file_id": "/v2/external/notebooks/gpu.ipynb",
     "timestamp": 1611939535453
    }
   ]
  },
  "gpuClass": "standard",
  "kernelspec": {
   "display_name": "Python 3 (ipykernel)",
   "language": "python",
   "name": "python3"
  },
  "language_info": {
   "codemirror_mode": {
    "name": "ipython",
    "version": 3
   },
   "file_extension": ".py",
   "mimetype": "text/x-python",
   "name": "python",
   "nbconvert_exporter": "python",
   "pygments_lexer": "ipython3",
   "version": "3.10.12"
  }
 },
 "nbformat": 4,
 "nbformat_minor": 4
}
