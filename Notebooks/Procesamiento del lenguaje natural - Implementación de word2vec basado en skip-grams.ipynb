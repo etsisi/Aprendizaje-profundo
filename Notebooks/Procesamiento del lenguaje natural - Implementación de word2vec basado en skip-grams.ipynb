{
 "cells": [
  {
   "attachments": {},
   "cell_type": "markdown",
   "id": "cb3e4566",
   "metadata": {},
   "source": [
    "<div><img style=\"float: right; width: 120px; vertical-align:middle\" src=\"https://www.upm.es/sfs/Rectorado/Gabinete%20del%20Rector/Logos/EU_Informatica/ETSI%20SIST_INFORM_COLOR.png\" alt=\"ETSISI logo\" />\n",
    "\n",
    "\n",
    "# Word2vec _skip-grams_ implementation<a id=\"top\"></a>\n",
    "\n",
    "<i><small>Author: Alberto Díaz Álvarez<br>Last update: 2023-05-25</small></i></div>\n",
    "\n",
    "***"
   ]
  },
  {
   "attachments": {},
   "cell_type": "markdown",
   "id": "0625fc1d",
   "metadata": {},
   "source": [
    "## Introduction"
   ]
  },
  {
   "attachments": {},
   "cell_type": "markdown",
   "id": "2cbddc17",
   "metadata": {},
   "source": [
    "We start with the most important of all: _Word embedding techniques_ is a way of saying _representing words numerically_ but with more hooks. And having said that, we are going to program a process of learning _embeddings_ from text corpora. We will focus on a technique called _Word2Vec_, although we have already seen that there are more.\n",
    "\n",
    "Word2vec_ is based on a neural network that generates the matrix using supervised training on a classification problem. The article where the method is presented is [Efficient Estimation of Word Representations in Vector Space (Mikolov et al.,2013)](https://arxiv.org/pdf/1301.3781.pdf) and it is a method that is quite successfully used to measure **syntactic and semantic similarity of words**.\n",
    "\n",
    "The article explores two different models: _Continuous Bag-of-Words_ and _Skip-gram_. The latter is the most commonly used, and will be the one we will look at in this exercise.\n",
    "\n",
    "The idea of the _Skip-gram_ is the following: given a word (which we will call _context word_), we want to train a model such that it is able to predict a word belonging to a window of size $N$. For example, assuming a window of size $N = 3$ and given the following sentence:\n",
    "\n",
    "> All those <span style=\"color:red\">moments will be</span> **lost** <span style=\"color:red\">in time like</span> tears in rain\n",
    "\n",
    "The _context word_ would be **lost**, and we would train the model to predict one of the existing words within the specified window, i.e., one of `['moments', 'will', 'be', 'in', 'time', 'like']`."
   ]
  },
  {
   "attachments": {},
   "cell_type": "markdown",
   "id": "de84c899",
   "metadata": {},
   "source": [
    "## Goals"
   ]
  },
  {
   "attachments": {},
   "cell_type": "markdown",
   "id": "f8d1ecaa",
   "metadata": {},
   "source": [
    "In this _notebook_ we will create an _embedding_ from the _skip-gram_ technique of _Word2Vec_."
   ]
  },
  {
   "attachments": {},
   "cell_type": "markdown",
   "id": "f806243c",
   "metadata": {},
   "source": [
    "## Libraries and configuration"
   ]
  },
  {
   "attachments": {},
   "cell_type": "markdown",
   "id": "e01d185e",
   "metadata": {},
   "source": [
    "Next we will import the libraries that will be used throughout the notebook."
   ]
  },
  {
   "cell_type": "code",
   "execution_count": 1,
   "id": "ee694de8",
   "metadata": {},
   "outputs": [
    {
     "name": "stderr",
     "output_type": "stream",
     "text": [
      "2023-05-25 18:33:52.914030: I tensorflow/stream_executor/platform/default/dso_loader.cc:53] Successfully opened dynamic library libcudart.so.11.0\n"
     ]
    }
   ],
   "source": [
    "import os\n",
    "\n",
    "import numpy as np\n",
    "import pandas as pd\n",
    "import requests\n",
    "import tensorflow as tf\n",
    "\n",
    "import matplotlib.pyplot as plt"
   ]
  },
  {
   "attachments": {},
   "cell_type": "markdown",
   "id": "e7286046",
   "metadata": {},
   "source": [
    "We will also configure some parameters to adapt the graphic presentation."
   ]
  },
  {
   "cell_type": "code",
   "execution_count": 2,
   "id": "fd7ae796",
   "metadata": {},
   "outputs": [],
   "source": [
    "plt.style.use('ggplot')\n",
    "plt.rcParams.update({'figure.figsize': (16, 9),'figure.dpi': 100})"
   ]
  },
  {
   "attachments": {},
   "cell_type": "markdown",
   "id": "cf70402e",
   "metadata": {},
   "source": [
    "And create the necessary directories in case they have not been created previously"
   ]
  },
  {
   "cell_type": "code",
   "execution_count": 3,
   "id": "7a2261e1",
   "metadata": {},
   "outputs": [],
   "source": [
    "os.makedirs('tmp', exist_ok=True)"
   ]
  },
  {
   "attachments": {},
   "cell_type": "markdown",
   "id": "694a766e",
   "metadata": {},
   "source": [
    "***"
   ]
  },
  {
   "attachments": {},
   "cell_type": "markdown",
   "id": "808a6843",
   "metadata": {},
   "source": [
    "## Corpus construction"
   ]
  },
  {
   "attachments": {},
   "cell_type": "markdown",
   "id": "cbb78a61",
   "metadata": {},
   "source": [
    "We will use the Amazon Reviews dataset (from https://nijianmo.github.io/amazon/index.html, not the most current, but useful for us) to train the model. More specifically, we will use the small subset of the category \"Software\"."
   ]
  },
  {
   "cell_type": "code",
   "execution_count": 4,
   "id": "ad1b454e",
   "metadata": {},
   "outputs": [],
   "source": [
    "DATASET_URL = 'https://jmcauley.ucsd.edu/data/amazon_v2/categoryFilesSmall/Software_5.json.gz'\n",
    "DATASET_ZIP = 'tmp/Software_5.json.gz'\n",
    "\n",
    "# Download the remote file if it does not exist\n",
    "if not os.path.exists(DATASET_ZIP):\n",
    "    with open(DATASET_ZIP, 'wb') as f:\n",
    "        print(f'Downloading {DATASET_ZIP}...')\n",
    "        r = requests.get(DATASET_URL, verify=False)\n",
    "        f.write(r.content)\n",
    "        print('OK')"
   ]
  },
  {
   "attachments": {},
   "cell_type": "markdown",
   "id": "bd580e16",
   "metadata": {},
   "source": [
    "Once downloaded, we can proceed to load the dataset. For our purpose (creating an _embedding_), we don't care about the output of the model or the id of the examples; we want the texts, so we are going to extract them, eliminating the blanks at the beginning and at the end."
   ]
  },
  {
   "cell_type": "code",
   "execution_count": 5,
   "id": "0daaa4b1",
   "metadata": {},
   "outputs": [
    {
     "data": {
      "text/plain": [
       "0    I've been using Dreamweaver (and it's predeces...\n",
       "1    The demo is done with the PC version, with ref...\n",
       "2    If you've been wanting to learn how to create ...\n",
       "3    I've been creating websites with Dreamweaver f...\n",
       "4    I decided (after trying a number of other prod...\n",
       "Name: reviewText, dtype: object"
      ]
     },
     "execution_count": 5,
     "metadata": {},
     "output_type": "execute_result"
    }
   ],
   "source": [
    "corpus = pd.read_json(DATASET_ZIP, lines=True)\n",
    "corpus = corpus['reviewText'].astype(str).str.strip()\n",
    "corpus.head()"
   ]
  },
  {
   "attachments": {},
   "cell_type": "markdown",
   "id": "f88339f8",
   "metadata": {},
   "source": [
    "The variable `corpus` points to an array with all the sentences in our set. We are going to tokenize each of the comments, converting them into a list of words. For this we will use the `tokenizer` function included in keras, although it is important to understand that this step is not trivial and will probably require a lot of preprocessing to have a quality dataset (e.g. lemmatization, $n$-grams, ...)."
   ]
  },
  {
   "cell_type": "code",
   "execution_count": 6,
   "id": "fd22c083",
   "metadata": {},
   "outputs": [],
   "source": [
    "tokenizer = tf.keras.preprocessing.text.Tokenizer()\n",
    "tokenizer.fit_on_texts(corpus)"
   ]
  },
  {
   "attachments": {},
   "cell_type": "markdown",
   "id": "40a66f01",
   "metadata": {},
   "source": [
    "At this point, our tokenizer has processed all the comments and extracted all the words, assigning an identifier to each one. We will store them in two dictionaries so that we can convert them into integers (to identify the word) and into words (once we have the integer"
   ]
  },
  {
   "cell_type": "code",
   "execution_count": 7,
   "id": "10a49b4f",
   "metadata": {},
   "outputs": [
    {
     "name": "stdout",
     "output_type": "stream",
     "text": [
      "word2id: {'the': 1, 'to': 2, 'and': 3, 'a': 4} ...\n",
      "id2word: {1: 'the', 2: 'to', 3: 'and', 4: 'a'} ...\n"
     ]
    }
   ],
   "source": [
    "word_index = tokenizer.word_index\n",
    "index_word = {index: word for word, index in word_index.items()}\n",
    "\n",
    "print(f'word2id: {dict(list(word_index.items())[0:4])} ...')\n",
    "print(f'id2word: {dict(list(index_word.items())[0:4])} ...')"
   ]
  },
  {
   "attachments": {},
   "cell_type": "markdown",
   "id": "c711e2d2",
   "metadata": {},
   "source": [
    "Finally, each of the comments in the corpus will be transformed into a list of integers where each token in the corpus will be replaced by the integer it represents. We will also obtain the size of our vocabulary from the number of identified words.\n",
    "\n",
    "To convert a text string into a sequence of words we can use the Keras function `tf.keras.preprocessing.text.text_to_word_sequence(text)`. From there getting the index of each word is trivial."
   ]
  },
  {
   "cell_type": "code",
   "execution_count": 8,
   "id": "c1dd139b",
   "metadata": {},
   "outputs": [
    {
     "name": "stdout",
     "output_type": "stream",
     "text": [
      "Corpus sentences: 12805 sentences\n",
      "Vocabulary Size: 28871 words\n",
      "Sentence example:\n",
      "- The video is well-paced and delivered in an understandable manner.  It allows you to work with the software while watching and following the directions of instructor Candyce Mairs.  To me, the book is more of a reference guide, something I would access with a specific need or question, because overall I learn better by seeing and doing than by reading.  The video starts with the basics and builds logically.  This is everything you want in a teaching video/book!\n",
      "- [1, 91, 8, 73, 7984, 3, 2691, 13, 34, 4963, 2713, 6, 429, 9, 2, 77, 14, 1, 22, 143, 1697, 3, 1083, 1, 1304, 7, 5540, 14492, 14493, 2, 43, 1, 659, 8, 36, 7, 4, 1688, 997, 197, 5, 62, 296, 14, 4, 856, 80, 26, 928, 99, 307, 5, 278, 115, 72, 1628, 3, 298, 58, 72, 763, 1, 91, 1378, 14, 1, 1430, 3, 3909, 7985, 12, 8, 207, 9, 94, 13, 4, 2607, 91, 659]\n"
     ]
    }
   ],
   "source": [
    "sentences = [\n",
    "    [word_index[w] for w in tf.keras.preprocessing.text.text_to_word_sequence(text)]\n",
    "    for text in corpus\n",
    "]\n",
    "vocab_size = len(word_index) + 1\n",
    "\n",
    "print(f'Corpus sentences: {len(sentences)} sentences')\n",
    "print(f'Vocabulary Size: {vocab_size} words')\n",
    "print(f'Sentence example:')\n",
    "print(f'- {corpus[5]}')\n",
    "print(f'- {sentences[5]}')"
   ]
  },
  {
   "attachments": {},
   "cell_type": "markdown",
   "id": "1e1952a1",
   "metadata": {},
   "source": [
    "## Skip-gram generator"
   ]
  },
  {
   "attachments": {},
   "cell_type": "markdown",
   "id": "af53c104",
   "metadata": {},
   "source": [
    "Now we will generate the _skip-grams_. The idea is, from all the sentences in the corpus (each `sentence` of `sentences`) and given an action window, to extract its context (the surrounding words) to determine for each pair of words whether they are contextual or not."
   ]
  },
  {
   "cell_type": "code",
   "execution_count": 9,
   "id": "e0f1746c",
   "metadata": {},
   "outputs": [
    {
     "name": "stdout",
     "output_type": "stream",
     "text": [
      "Dataset shape: (44861036, 3)\n",
      "[[  379   104     1]\n",
      " [ 4436 10425     0]\n",
      " [  212     7     1]\n",
      " ...\n",
      " [   35     7     1]\n",
      " [ 2534    27     1]\n",
      " [  260 18938     0]]\n"
     ]
    }
   ],
   "source": [
    "WINDOW_SIZE = 5\n",
    "\n",
    "x_train, y_train = [], []\n",
    "for sentence in sentences:\n",
    "    pairs, are_contextual = tf.keras.preprocessing.sequence.skipgrams(\n",
    "        sentence,\n",
    "        vocabulary_size=vocab_size,\n",
    "        window_size=WINDOW_SIZE,\n",
    "    )\n",
    "    x_train.extend(pairs)\n",
    "    y_train.extend(are_contextual)\n",
    "\n",
    "x_train = np.array(x_train)\n",
    "y_train = np.array(y_train).reshape(-1, 1)\n",
    "dataset = np.hstack((x_train, y_train))\n",
    "\n",
    "print(f'Dataset shape: {dataset.shape}')\n",
    "print(dataset)"
   ]
  },
  {
   "attachments": {},
   "cell_type": "markdown",
   "id": "c7ada0c3",
   "metadata": {},
   "source": [
    "It can be seen that it has been generated, for each pair of words, whether they are (1) or not (0) contextual. This is because the `skipgrams` function transforms a sequence of words (actually of integers) into tuples of the form:\n",
    "\n",
    "- `(word, word in context)`, label 1 (positive, are contextual).\n",
    "- `(word, random word outside of context)`, label 0 (not contextual)."
   ]
  },
  {
   "attachments": {},
   "cell_type": "markdown",
   "id": "e72a01dc",
   "metadata": {},
   "source": [
    "## Model creation and training"
   ]
  },
  {
   "attachments": {},
   "cell_type": "markdown",
   "id": "f8fcfeb6",
   "metadata": {},
   "source": [
    "We already have a dataset with inputs and their respective outputs. Now the objective is to train a model that is able to determine if two words belong to the same context.\n",
    "\n",
    "To do this we will create an embedding layer that will transform the words into their feature vector. The words will be those that are or are not contextual, and it will determine how close (more contextual) or far (less contextual) they are, using a distance measure (scalar product).\n",
    "\n",
    "Finally, the output of the network will be a single neuron that will be activated or not if they are contextual.\n",
    "\n",
    "This architecture will force the more contextual words to be closer together, and therefore their feature vectors to be more similar. The weights matrix of the embedding layer is thus expected to converge to a representation of the word features."
   ]
  },
  {
   "cell_type": "code",
   "execution_count": 12,
   "id": "6a44df22",
   "metadata": {},
   "outputs": [
    {
     "name": "stdout",
     "output_type": "stream",
     "text": [
      "Model: \"model_1\"\n",
      "__________________________________________________________________________________________________\n",
      "Layer (type)                    Output Shape         Param #     Connected to                     \n",
      "==================================================================================================\n",
      "input_3 (InputLayer)            [(None, 1)]          0                                            \n",
      "__________________________________________________________________________________________________\n",
      "input_4 (InputLayer)            [(None, 1)]          0                                            \n",
      "__________________________________________________________________________________________________\n",
      "embedding (Embedding)           (None, 1, 5)         144355      input_3[0][0]                    \n",
      "                                                                 input_4[0][0]                    \n",
      "__________________________________________________________________________________________________\n",
      "reshape_2 (Reshape)             (None, 5, 1)         0           embedding[0][0]                  \n",
      "                                                                 embedding[1][0]                  \n",
      "__________________________________________________________________________________________________\n",
      "dropout_2 (Dropout)             (None, 5, 1)         0           reshape_2[0][0]                  \n",
      "__________________________________________________________________________________________________\n",
      "dropout_3 (Dropout)             (None, 5, 1)         0           reshape_2[1][0]                  \n",
      "__________________________________________________________________________________________________\n",
      "dot_1 (Dot)                     (None, 1, 1)         0           dropout_2[0][0]                  \n",
      "                                                                 dropout_3[0][0]                  \n",
      "__________________________________________________________________________________________________\n",
      "reshape_3 (Reshape)             (None, 1)            0           dot_1[0][0]                      \n",
      "__________________________________________________________________________________________________\n",
      "dense_1 (Dense)                 (None, 1)            2           reshape_3[0][0]                  \n",
      "==================================================================================================\n",
      "Total params: 144,357\n",
      "Trainable params: 144,357\n",
      "Non-trainable params: 0\n",
      "__________________________________________________________________________________________________\n"
     ]
    }
   ],
   "source": [
    "EMBEDDING_DIM = 5\n",
    "\n",
    "# Inputs to the model\n",
    "input_target = tf.keras.layers.Input((1,))\n",
    "input_context = tf.keras.layers.Input((1,))\n",
    "\n",
    "# Common layers (including the embedding)\n",
    "embedding_layer = tf.keras.layers.Embedding(\n",
    "    input_dim=vocab_size,\n",
    "    output_dim=EMBEDDING_DIM,\n",
    "    input_length=1,\n",
    "    name='embedding',\n",
    ")\n",
    "\n",
    "reshape_layer = tf.keras.layers.Reshape((EMBEDDING_DIM, 1))\n",
    "\n",
    "# Model architecture\n",
    "target_embedding = embedding_layer(input_target)\n",
    "target_embedding = reshape_layer(target_embedding)\n",
    "target_embedding = tf.keras.layers.Dropout(0.1)(target_embedding)\n",
    "\n",
    "context_embedding = embedding_layer(input_context)\n",
    "context_embedding = reshape_layer(context_embedding)\n",
    "context_embedding = tf.keras.layers.Dropout(0.1)(context_embedding)\n",
    "\n",
    "hidden_layer = tf.keras.layers.Dot(axes=1, normalize=True)([target_embedding, context_embedding])\n",
    "hidden_layer = tf.keras.layers.Reshape((1,))(hidden_layer)\n",
    "\n",
    "output = tf.keras.layers.Dense(1, activation='sigmoid')(hidden_layer)\n",
    "\n",
    "model = tf.keras.Model(inputs=[input_target, input_context], outputs=output)\n",
    "model.summary()\n",
    "model.compile(loss='binary_crossentropy', optimizer='adam')"
   ]
  },
  {
   "attachments": {},
   "cell_type": "markdown",
   "id": "1bcbde71",
   "metadata": {},
   "source": [
    "Now we only have to train the model. To do so, we will train it with each of the _skip-grams_ generated previously. We will use a validation separation of 10% and train for 10 epochs.\n",
    "\n",
    "**This step is very expensive**, and can take quite a few minutes (hours), so either we have a powerful machine, or we better leave it here."
   ]
  },
  {
   "cell_type": "code",
   "execution_count": 14,
   "id": "fdf21a9d",
   "metadata": {},
   "outputs": [
    {
     "name": "stdout",
     "output_type": "stream",
     "text": [
      "Epoch 1/50\n",
      "172/172 [==============================] - 10s 43ms/step - loss: 0.7094\n",
      "Epoch 2/50\n",
      "172/172 [==============================] - 7s 42ms/step - loss: 0.6926\n",
      "Epoch 3/50\n",
      "172/172 [==============================] - 7s 44ms/step - loss: 0.6601\n",
      "Epoch 4/50\n",
      "172/172 [==============================] - 7s 43ms/step - loss: 0.6459\n",
      "Epoch 5/50\n",
      "172/172 [==============================] - 7s 43ms/step - loss: 0.6417\n",
      "Epoch 6/50\n",
      "172/172 [==============================] - 7s 43ms/step - loss: 0.6386\n",
      "Epoch 7/50\n",
      "172/172 [==============================] - 7s 43ms/step - loss: 0.6358\n",
      "Epoch 8/50\n",
      "172/172 [==============================] - 7s 43ms/step - loss: 0.6334\n",
      "Epoch 9/50\n",
      "172/172 [==============================] - 7s 44ms/step - loss: 0.6314\n",
      "Epoch 10/50\n",
      "172/172 [==============================] - 8s 44ms/step - loss: 0.6296\n",
      "Epoch 11/50\n",
      "172/172 [==============================] - 7s 42ms/step - loss: 0.6281\n",
      "Epoch 12/50\n",
      "172/172 [==============================] - 7s 43ms/step - loss: 0.6266\n",
      "Epoch 13/50\n",
      "172/172 [==============================] - 7s 43ms/step - loss: 0.6254\n",
      "Epoch 14/50\n",
      "172/172 [==============================] - 7s 43ms/step - loss: 0.6243\n",
      "Epoch 15/50\n",
      "172/172 [==============================] - 7s 43ms/step - loss: 0.6233\n",
      "Epoch 16/50\n",
      "172/172 [==============================] - 7s 43ms/step - loss: 0.6224\n",
      "Epoch 17/50\n",
      "172/172 [==============================] - 7s 43ms/step - loss: 0.6215\n",
      "Epoch 18/50\n",
      "172/172 [==============================] - 7s 43ms/step - loss: 0.6209\n",
      "Epoch 19/50\n",
      "172/172 [==============================] - 7s 43ms/step - loss: 0.6200\n",
      "Epoch 20/50\n",
      "172/172 [==============================] - 7s 43ms/step - loss: 0.6193\n",
      "Epoch 21/50\n",
      "172/172 [==============================] - 7s 43ms/step - loss: 0.6186\n",
      "Epoch 22/50\n",
      "172/172 [==============================] - 7s 43ms/step - loss: 0.6179\n",
      "Epoch 23/50\n",
      "172/172 [==============================] - 7s 42ms/step - loss: 0.6175\n",
      "Epoch 24/50\n",
      "172/172 [==============================] - 7s 43ms/step - loss: 0.6172\n",
      "Epoch 25/50\n",
      "172/172 [==============================] - 7s 43ms/step - loss: 0.6170\n",
      "Epoch 26/50\n",
      "172/172 [==============================] - 8s 44ms/step - loss: 0.6168\n",
      "Epoch 27/50\n",
      "172/172 [==============================] - 7s 43ms/step - loss: 0.6166\n",
      "Epoch 28/50\n",
      "172/172 [==============================] - 7s 43ms/step - loss: 0.6164\n",
      "Epoch 29/50\n",
      "172/172 [==============================] - 7s 43ms/step - loss: 0.6164\n",
      "Epoch 30/50\n",
      "172/172 [==============================] - 7s 43ms/step - loss: 0.6162\n",
      "Epoch 31/50\n",
      "172/172 [==============================] - 7s 43ms/step - loss: 0.6162\n",
      "Epoch 32/50\n",
      "172/172 [==============================] - 7s 43ms/step - loss: 0.6162\n",
      "Epoch 33/50\n",
      "172/172 [==============================] - 7s 43ms/step - loss: 0.6161\n",
      "Epoch 34/50\n",
      "172/172 [==============================] - 7s 43ms/step - loss: 0.6160\n",
      "Epoch 35/50\n",
      "172/172 [==============================] - 7s 43ms/step - loss: 0.6161\n",
      "Epoch 36/50\n",
      "172/172 [==============================] - 7s 43ms/step - loss: 0.6160\n",
      "Epoch 37/50\n",
      "172/172 [==============================] - 7s 43ms/step - loss: 0.6160\n",
      "Epoch 38/50\n",
      "172/172 [==============================] - 7s 42ms/step - loss: 0.6160\n",
      "Epoch 39/50\n",
      "172/172 [==============================] - 7s 43ms/step - loss: 0.6160\n",
      "Epoch 40/50\n",
      "172/172 [==============================] - 8s 44ms/step - loss: 0.6159\n",
      "Epoch 41/50\n",
      "172/172 [==============================] - 7s 43ms/step - loss: 0.6159\n",
      "Epoch 42/50\n",
      "172/172 [==============================] - 7s 42ms/step - loss: 0.6159\n",
      "Epoch 43/50\n",
      "172/172 [==============================] - 7s 43ms/step - loss: 0.6159\n",
      "Epoch 44/50\n",
      "172/172 [==============================] - 7s 42ms/step - loss: 0.6158\n",
      "Epoch 45/50\n",
      "172/172 [==============================] - 7s 42ms/step - loss: 0.6158\n",
      "Epoch 46/50\n",
      "172/172 [==============================] - 7s 43ms/step - loss: 0.6158\n",
      "Epoch 47/50\n",
      "172/172 [==============================] - 7s 44ms/step - loss: 0.6158\n",
      "Epoch 48/50\n",
      "172/172 [==============================] - 7s 43ms/step - loss: 0.6157\n",
      "Epoch 49/50\n",
      "172/172 [==============================] - 7s 43ms/step - loss: 0.6157\n",
      "Epoch 50/50\n",
      "172/172 [==============================] - 7s 42ms/step - loss: 0.6158\n"
     ]
    }
   ],
   "source": [
    "history = model.fit([dataset[:, 0], dataset[:, 1]], dataset[:, 2], batch_size=8*32768, epochs=50)"
   ]
  },
  {
   "attachments": {},
   "cell_type": "markdown",
   "id": "74812104",
   "metadata": {},
   "source": [
    "Let's take a look at the training progress:"
   ]
  },
  {
   "cell_type": "code",
   "execution_count": null,
   "id": "961fc58f",
   "metadata": {},
   "outputs": [
    {
     "data": {
      "image/png": "[encoded data removed]",
      "text/plain": [
       "<Figure size 1600x900 with 1 Axes>"
      ]
     },
     "metadata": {},
     "output_type": "display_data"
    }
   ],
   "source": [
    "pd.DataFrame(history.history).plot()\n",
    "plt.yscale('log')\n",
    "plt.xlabel('Epoch num.')\n",
    "plt.show()"
   ]
  },
  {
   "attachments": {},
   "cell_type": "markdown",
   "id": "9742d5ba",
   "metadata": {},
   "source": [
    "## Embeddings"
   ]
  },
  {
   "attachments": {},
   "cell_type": "markdown",
   "id": "c8e7f8c8",
   "metadata": {},
   "source": [
    "Once the model is trained, we already have a matrix with the weights of the features for each word. To see a representation we can take them directly and print them in a dataframe."
   ]
  },
  {
   "cell_type": "code",
   "execution_count": null,
   "id": "7527d055",
   "metadata": {
    "scrolled": true
   },
   "outputs": [
    {
     "data": {
      "text/html": [
       "<div>\n",
       "<style scoped>\n",
       "    .dataframe tbody tr th:only-of-type {\n",
       "        vertical-align: middle;\n",
       "    }\n",
       "\n",
       "    .dataframe tbody tr th {\n",
       "        vertical-align: top;\n",
       "    }\n",
       "\n",
       "    .dataframe thead th {\n",
       "        text-align: right;\n",
       "    }\n",
       "</style>\n",
       "<table border=\"1\" class=\"dataframe\">\n",
       "  <thead>\n",
       "    <tr style=\"text-align: right;\">\n",
       "      <th></th>\n",
       "      <th>0</th>\n",
       "      <th>1</th>\n",
       "      <th>2</th>\n",
       "      <th>3</th>\n",
       "      <th>4</th>\n",
       "    </tr>\n",
       "  </thead>\n",
       "  <tbody>\n",
       "    <tr>\n",
       "      <th>the</th>\n",
       "      <td>-0.364053</td>\n",
       "      <td>0.356604</td>\n",
       "      <td>-0.354759</td>\n",
       "      <td>0.351620</td>\n",
       "      <td>-0.349185</td>\n",
       "    </tr>\n",
       "    <tr>\n",
       "      <th>to</th>\n",
       "      <td>-0.352917</td>\n",
       "      <td>0.344202</td>\n",
       "      <td>-0.352536</td>\n",
       "      <td>0.358578</td>\n",
       "      <td>-0.352921</td>\n",
       "    </tr>\n",
       "    <tr>\n",
       "      <th>and</th>\n",
       "      <td>-0.343665</td>\n",
       "      <td>0.355549</td>\n",
       "      <td>-0.348232</td>\n",
       "      <td>0.341795</td>\n",
       "      <td>-0.361806</td>\n",
       "    </tr>\n",
       "    <tr>\n",
       "      <th>a</th>\n",
       "      <td>-0.348880</td>\n",
       "      <td>0.351700</td>\n",
       "      <td>-0.345310</td>\n",
       "      <td>0.352640</td>\n",
       "      <td>-0.353859</td>\n",
       "    </tr>\n",
       "    <tr>\n",
       "      <th>i</th>\n",
       "      <td>-0.356252</td>\n",
       "      <td>0.351378</td>\n",
       "      <td>-0.348276</td>\n",
       "      <td>0.352210</td>\n",
       "      <td>-0.347581</td>\n",
       "    </tr>\n",
       "    <tr>\n",
       "      <th>it</th>\n",
       "      <td>-0.345027</td>\n",
       "      <td>0.355942</td>\n",
       "      <td>-0.341955</td>\n",
       "      <td>0.359849</td>\n",
       "      <td>-0.339238</td>\n",
       "    </tr>\n",
       "    <tr>\n",
       "      <th>of</th>\n",
       "      <td>-0.351463</td>\n",
       "      <td>0.352795</td>\n",
       "      <td>-0.341441</td>\n",
       "      <td>0.344868</td>\n",
       "      <td>-0.351368</td>\n",
       "    </tr>\n",
       "    <tr>\n",
       "      <th>is</th>\n",
       "      <td>-0.337272</td>\n",
       "      <td>0.359276</td>\n",
       "      <td>-0.344927</td>\n",
       "      <td>0.345425</td>\n",
       "      <td>-0.363942</td>\n",
       "    </tr>\n",
       "    <tr>\n",
       "      <th>you</th>\n",
       "      <td>-0.346580</td>\n",
       "      <td>0.354544</td>\n",
       "      <td>-0.345489</td>\n",
       "      <td>0.346459</td>\n",
       "      <td>-0.345674</td>\n",
       "    </tr>\n",
       "    <tr>\n",
       "      <th>for</th>\n",
       "      <td>-0.341945</td>\n",
       "      <td>0.342833</td>\n",
       "      <td>-0.347269</td>\n",
       "      <td>0.343963</td>\n",
       "      <td>-0.350499</td>\n",
       "    </tr>\n",
       "  </tbody>\n",
       "</table>\n",
       "</div>"
      ],
      "text/plain": [
       "            0         1         2         3         4\n",
       "the -0.364053  0.356604 -0.354759  0.351620 -0.349185\n",
       "to  -0.352917  0.344202 -0.352536  0.358578 -0.352921\n",
       "and -0.343665  0.355549 -0.348232  0.341795 -0.361806\n",
       "a   -0.348880  0.351700 -0.345310  0.352640 -0.353859\n",
       "i   -0.356252  0.351378 -0.348276  0.352210 -0.347581\n",
       "it  -0.345027  0.355942 -0.341955  0.359849 -0.339238\n",
       "of  -0.351463  0.352795 -0.341441  0.344868 -0.351368\n",
       "is  -0.337272  0.359276 -0.344927  0.345425 -0.363942\n",
       "you -0.346580  0.354544 -0.345489  0.346459 -0.345674\n",
       "for -0.341945  0.342833 -0.347269  0.343963 -0.350499"
      ]
     },
     "execution_count": 15,
     "metadata": {},
     "output_type": "execute_result"
    }
   ],
   "source": [
    "weights = embedding_layer.get_weights()[0][1:]\n",
    "\n",
    "df = pd.DataFrame(weights, index=index_word.values())\n",
    "df.head(10)"
   ]
  },
  {
   "attachments": {},
   "cell_type": "markdown",
   "id": "4cf039e5",
   "metadata": {},
   "source": [
    "Let's make a search with the most similar words to a given one using, for example, the Euclidean distance of its vectors"
   ]
  },
  {
   "cell_type": "code",
   "execution_count": null,
   "id": "10654a4c",
   "metadata": {},
   "outputs": [
    {
     "data": {
      "text/html": [
       "<div>\n",
       "<style scoped>\n",
       "    .dataframe tbody tr th:only-of-type {\n",
       "        vertical-align: middle;\n",
       "    }\n",
       "\n",
       "    .dataframe tbody tr th {\n",
       "        vertical-align: top;\n",
       "    }\n",
       "\n",
       "    .dataframe thead th {\n",
       "        text-align: right;\n",
       "    }\n",
       "</style>\n",
       "<table border=\"1\" class=\"dataframe\">\n",
       "  <thead>\n",
       "    <tr style=\"text-align: right;\">\n",
       "      <th></th>\n",
       "      <th>0</th>\n",
       "      <th>1</th>\n",
       "      <th>2</th>\n",
       "      <th>3</th>\n",
       "      <th>4</th>\n",
       "    </tr>\n",
       "  </thead>\n",
       "  <tbody>\n",
       "    <tr>\n",
       "      <th>man</th>\n",
       "      <td>-0.012862</td>\n",
       "      <td>1.162959</td>\n",
       "      <td>-0.100296</td>\n",
       "      <td>0.350839</td>\n",
       "      <td>-0.044519</td>\n",
       "    </tr>\n",
       "    <tr>\n",
       "      <th>acceptable</th>\n",
       "      <td>0.006858</td>\n",
       "      <td>1.156448</td>\n",
       "      <td>-0.114493</td>\n",
       "      <td>0.299758</td>\n",
       "      <td>-0.023211</td>\n",
       "    </tr>\n",
       "    <tr>\n",
       "      <th>filling</th>\n",
       "      <td>-0.014182</td>\n",
       "      <td>1.097864</td>\n",
       "      <td>-0.072980</td>\n",
       "      <td>0.336073</td>\n",
       "      <td>-0.046303</td>\n",
       "    </tr>\n",
       "    <tr>\n",
       "      <th>secret</th>\n",
       "      <td>-0.020728</td>\n",
       "      <td>1.128907</td>\n",
       "      <td>-0.048650</td>\n",
       "      <td>0.410157</td>\n",
       "      <td>-0.095325</td>\n",
       "    </tr>\n",
       "    <tr>\n",
       "      <th>hooked</th>\n",
       "      <td>-0.080764</td>\n",
       "      <td>1.142155</td>\n",
       "      <td>-0.037088</td>\n",
       "      <td>0.338558</td>\n",
       "      <td>0.003862</td>\n",
       "    </tr>\n",
       "    <tr>\n",
       "      <th>blown</th>\n",
       "      <td>-0.072587</td>\n",
       "      <td>1.164829</td>\n",
       "      <td>-0.041216</td>\n",
       "      <td>0.306790</td>\n",
       "      <td>0.007192</td>\n",
       "    </tr>\n",
       "    <tr>\n",
       "      <th>french</th>\n",
       "      <td>-0.059561</td>\n",
       "      <td>1.164077</td>\n",
       "      <td>-0.015824</td>\n",
       "      <td>0.296998</td>\n",
       "      <td>-0.072423</td>\n",
       "    </tr>\n",
       "    <tr>\n",
       "      <th>beautifully</th>\n",
       "      <td>0.005477</td>\n",
       "      <td>1.222516</td>\n",
       "      <td>-0.058297</td>\n",
       "      <td>0.264353</td>\n",
       "      <td>-0.060509</td>\n",
       "    </tr>\n",
       "    <tr>\n",
       "      <th>similarly</th>\n",
       "      <td>0.004995</td>\n",
       "      <td>1.216108</td>\n",
       "      <td>-0.033617</td>\n",
       "      <td>0.271561</td>\n",
       "      <td>-0.082319</td>\n",
       "    </tr>\n",
       "    <tr>\n",
       "      <th>nobody</th>\n",
       "      <td>-0.009628</td>\n",
       "      <td>1.205266</td>\n",
       "      <td>-0.016262</td>\n",
       "      <td>0.270898</td>\n",
       "      <td>-0.052234</td>\n",
       "    </tr>\n",
       "    <tr>\n",
       "      <th>complexity</th>\n",
       "      <td>0.020676</td>\n",
       "      <td>1.141287</td>\n",
       "      <td>-0.033105</td>\n",
       "      <td>0.270484</td>\n",
       "      <td>-0.107798</td>\n",
       "    </tr>\n",
       "  </tbody>\n",
       "</table>\n",
       "</div>"
      ],
      "text/plain": [
       "                    0         1         2         3         4\n",
       "man         -0.012862  1.162959 -0.100296  0.350839 -0.044519\n",
       "acceptable   0.006858  1.156448 -0.114493  0.299758 -0.023211\n",
       "filling     -0.014182  1.097864 -0.072980  0.336073 -0.046303\n",
       "secret      -0.020728  1.128907 -0.048650  0.410157 -0.095325\n",
       "hooked      -0.080764  1.142155 -0.037088  0.338558  0.003862\n",
       "blown       -0.072587  1.164829 -0.041216  0.306790  0.007192\n",
       "french      -0.059561  1.164077 -0.015824  0.296998 -0.072423\n",
       "beautifully  0.005477  1.222516 -0.058297  0.264353 -0.060509\n",
       "similarly    0.004995  1.216108 -0.033617  0.271561 -0.082319\n",
       "nobody      -0.009628  1.205266 -0.016262  0.270898 -0.052234\n",
       "complexity   0.020676  1.141287 -0.033105  0.270484 -0.107798"
      ]
     },
     "execution_count": 18,
     "metadata": {},
     "output_type": "execute_result"
    }
   ],
   "source": [
    "NUM_CLOSEST_WORDS = 10\n",
    "WORD = 'man'\n",
    "\n",
    "v1 = weights[word_index[WORD] - 1]\n",
    "words = sorted(\n",
    "    [word for word in word_index.keys()],\n",
    "    key=lambda w: np.linalg.norm(v1 - weights[word_index[w]-1])\n",
    ")\n",
    "df.loc[words[:NUM_CLOSEST_WORDS + 1], :]"
   ]
  },
  {
   "attachments": {},
   "cell_type": "markdown",
   "id": "ad020787",
   "metadata": {},
   "source": [
    "## Conclusions"
   ]
  },
  {
   "attachments": {},
   "cell_type": "markdown",
   "id": "691f3670",
   "metadata": {},
   "source": [
    "In summary, we have implemented embedding using the _skip-grams_ technique of _word2vec_ and have demonstrated its effectiveness in representing words more meaningfully in a vector space. This technique is able to capture the semantics of words, representing them in a vector space of lower dimension than it would occupy with an _one-hot_ representation.\n",
    "\n",
    "Note, we also realized that **it is a very expensive technique**, and therefore does not make much sense (in general) since we have many ready-made _embeddings_ available for download."
   ]
  },
  {
   "attachments": {},
   "cell_type": "markdown",
   "id": "cc70b0a3",
   "metadata": {},
   "source": [
    "***\n",
    "\n",
    "<div><img style=\"float: right; width: 120px; vertical-align:top\" src=\"https://mirrors.creativecommons.org/presskit/buttons/88x31/png/by-nc-sa.png\" alt=\"Creative Commons by-nc-sa logo\" />\n",
    "\n",
    "[Volver al inicio](#top)\n",
    "\n",
    "</div>"
   ]
  }
 ],
 "metadata": {
  "kernelspec": {
   "display_name": "Python 3 (ipykernel)",
   "language": "python",
   "name": "python3"
  },
  "language_info": {
   "codemirror_mode": {
    "name": "ipython",
    "version": 3
   },
   "file_extension": ".py",
   "mimetype": "text/x-python",
   "name": "python",
   "nbconvert_exporter": "python",
   "pygments_lexer": "ipython3",
   "version": "3.8.10"
  }
 },
 "nbformat": 4,
 "nbformat_minor": 5
}
