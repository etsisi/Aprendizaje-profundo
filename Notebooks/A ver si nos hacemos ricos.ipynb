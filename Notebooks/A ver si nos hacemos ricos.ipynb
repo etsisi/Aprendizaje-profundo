{
 "cells": [
  {
   "cell_type": "markdown",
   "metadata": {
    "slideshow": {
     "slide_type": "slide"
    }
   },
   "source": [
    "<div><img style=\"float: right; width: 120px; vertical-align:middle\" src=\"https://www.upm.es/sfs/Rectorado/Gabinete%20del%20Rector/Logos/EU_Informatica/ETSI%20SIST_INFORM_COLOR.png\" alt=\"ETSISI logo\" />\n",
    "\n",
    "# A ver si nos hacemos ricos<a id=\"top\"></a>\n",
    "\n",
    "<i><small>Last update: 2023-04-09</small></i></div>\n",
    "***"
   ]
  },
  {
   "cell_type": "markdown",
   "metadata": {},
   "source": [
    "## Introducción"
   ]
  },
  {
   "cell_type": "markdown",
   "metadata": {
    "slideshow": {
     "slide_type": "slide"
    }
   },
   "source": [
    "Vamos a explorar el comportamiento de una red recurrente en el problema de predicción bursátil. Se trata de un problema muy difícil de resolver por varias razones.\n",
    "\n",
    "En primer lugar, el mercado de valores es un sistema **altamente complejo** y dinámico, en el que multitud de factores pueden influir en los precios de las acciones. Estos factores incluyen las condiciones económicas mundiales, los acontecimientos políticos, los resultados de las empresas y el sentimiento de los inversores, entre otros. Por lo tanto, es difícil captar y modelizar todas estas complejas relaciones utilizando una única arquitectura RNN.\n",
    "\n",
    "En segundo lugar, el mercado de valores se caracteriza por **patrones no estacionarios y no lineales**, en los que las relaciones entre entradas y salidas pueden cambiar con el tiempo. Las RNN son particularmente adecuadas para modelizar datos de series temporales, pero pueden tener dificultades para captar patrones no lineales y no estacionarios, especialmente en horizontes temporales largos.\n",
    "\n",
    "En tercer lugar, el mercado bursátil **está sujeto a acontecimientos impredecibles** que pueden tener un impacto significativo en los precios de las acciones. Por ejemplo, las noticias inesperadas o los cambios repentinos en la confianza del mercado pueden provocar cambios importantes y rápidos en los precios de las acciones que pueden ser difíciles de predecir utilizando únicamente datos históricos.\n",
    "\n",
    "Por último, el mercado bursátil es un entorno altamente competitivo, en el que inversores y operadores utilizan diversas técnicas sofisticadas para obtener una ventaja en el mercado. Esto significa que cualquier modelo de predicción debe ser capaz de superar al mercado para ser útil, lo cual es una tarea difícil."
   ]
  },
  {
   "cell_type": "markdown",
   "metadata": {},
   "source": [
    "## Objetivos"
   ]
  },
  {
   "cell_type": "markdown",
   "metadata": {},
   "source": [
    "Crearemos un modelo de regresión para intentar predecir el valor de cierre que tendrán las acciones de Google (<https://es.finance.yahoo.com/quote/goog/>)."
   ]
  },
  {
   "cell_type": "markdown",
   "metadata": {},
   "source": [
    "## Bibliotecas y configuración"
   ]
  },
  {
   "cell_type": "markdown",
   "metadata": {
    "slideshow": {
     "slide_type": "slide"
    }
   },
   "source": [
    "A continuación importaremos las bibliotecas que se utilizarán a lo largo del cuaderno."
   ]
  },
  {
   "cell_type": "code",
   "execution_count": 1,
   "metadata": {
    "slideshow": {
     "slide_type": "fragment"
    }
   },
   "outputs": [
    {
     "name": "stderr",
     "output_type": "stream",
     "text": [
      "2023-05-16 19:02:02.932065: I tensorflow/core/platform/cpu_feature_guard.cc:193] This TensorFlow binary is optimized with oneAPI Deep Neural Network Library (oneDNN) to use the following CPU instructions in performance-critical operations:  AVX2 FMA\n",
      "To enable them in other operations, rebuild TensorFlow with the appropriate compiler flags.\n",
      "2023-05-16 19:02:03.069548: W tensorflow/compiler/xla/stream_executor/platform/default/dso_loader.cc:64] Could not load dynamic library 'libcudart.so.11.0'; dlerror: libcudart.so.11.0: cannot open shared object file: No such file or directory\n",
      "2023-05-16 19:02:03.069565: I tensorflow/compiler/xla/stream_executor/cuda/cudart_stub.cc:29] Ignore above cudart dlerror if you do not have a GPU set up on your machine.\n",
      "2023-05-16 19:02:03.958968: W tensorflow/compiler/xla/stream_executor/platform/default/dso_loader.cc:64] Could not load dynamic library 'libnvinfer.so.7'; dlerror: libnvinfer.so.7: cannot open shared object file: No such file or directory\n",
      "2023-05-16 19:02:03.959025: W tensorflow/compiler/xla/stream_executor/platform/default/dso_loader.cc:64] Could not load dynamic library 'libnvinfer_plugin.so.7'; dlerror: libnvinfer_plugin.so.7: cannot open shared object file: No such file or directory\n",
      "2023-05-16 19:02:03.959031: W tensorflow/compiler/tf2tensorrt/utils/py_utils.cc:38] TF-TRT Warning: Cannot dlopen some TensorRT libraries. If you would like to use Nvidia GPU with TensorRT, please make sure the missing libraries mentioned above are installed properly.\n"
     ]
    }
   ],
   "source": [
    "import datetime\n",
    "\n",
    "import matplotlib.pyplot as plt\n",
    "import numpy as np\n",
    "import pandas as pd\n",
    "import tensorflow as tf\n",
    "\n",
    "from sklearn.preprocessing import MinMaxScaler"
   ]
  },
  {
   "cell_type": "markdown",
   "metadata": {},
   "source": [
    "También configuraremos algunos parámetros para adaptar la presentación gráfica."
   ]
  },
  {
   "cell_type": "code",
   "execution_count": 2,
   "metadata": {},
   "outputs": [],
   "source": [
    "%matplotlib inline\n",
    "plt.style.use('ggplot')\n",
    "plt.rcParams.update({'figure.figsize': (20, 6),'figure.dpi': 64})"
   ]
  },
  {
   "cell_type": "markdown",
   "metadata": {},
   "source": [
    "***"
   ]
  },
  {
   "cell_type": "markdown",
   "metadata": {},
   "source": [
    "## Descarga y preprocesamiento de datos"
   ]
  },
  {
   "cell_type": "markdown",
   "metadata": {},
   "source": [
    "Empezaremos cargando los datos del conjunto de datos de acciones de Google. Para ello tomaremos los datos históricos de la empresa de los últimos 5 años."
   ]
  },
  {
   "cell_type": "code",
   "execution_count": 3,
   "metadata": {},
   "outputs": [
    {
     "data": {
      "text/html": [
       "<div>\n",
       "<style scoped>\n",
       "    .dataframe tbody tr th:only-of-type {\n",
       "        vertical-align: middle;\n",
       "    }\n",
       "\n",
       "    .dataframe tbody tr th {\n",
       "        vertical-align: top;\n",
       "    }\n",
       "\n",
       "    .dataframe thead th {\n",
       "        text-align: right;\n",
       "    }\n",
       "</style>\n",
       "<table border=\"1\" class=\"dataframe\">\n",
       "  <thead>\n",
       "    <tr style=\"text-align: right;\">\n",
       "      <th></th>\n",
       "      <th>Open</th>\n",
       "      <th>High</th>\n",
       "      <th>Low</th>\n",
       "      <th>Close</th>\n",
       "      <th>Adj Close</th>\n",
       "      <th>Volume</th>\n",
       "    </tr>\n",
       "    <tr>\n",
       "      <th>Date</th>\n",
       "      <th></th>\n",
       "      <th></th>\n",
       "      <th></th>\n",
       "      <th></th>\n",
       "      <th></th>\n",
       "      <th></th>\n",
       "    </tr>\n",
       "  </thead>\n",
       "  <tbody>\n",
       "    <tr>\n",
       "      <th>2018-05-17</th>\n",
       "      <td>53.994499</td>\n",
       "      <td>54.343498</td>\n",
       "      <td>53.674999</td>\n",
       "      <td>53.929501</td>\n",
       "      <td>53.929501</td>\n",
       "      <td>20876000.0</td>\n",
       "    </tr>\n",
       "    <tr>\n",
       "      <th>2018-05-18</th>\n",
       "      <td>53.092999</td>\n",
       "      <td>53.497002</td>\n",
       "      <td>53.034000</td>\n",
       "      <td>53.318001</td>\n",
       "      <td>53.318001</td>\n",
       "      <td>31304000.0</td>\n",
       "    </tr>\n",
       "    <tr>\n",
       "      <th>2018-05-21</th>\n",
       "      <td>53.702999</td>\n",
       "      <td>54.400002</td>\n",
       "      <td>53.682499</td>\n",
       "      <td>53.979000</td>\n",
       "      <td>53.979000</td>\n",
       "      <td>20464000.0</td>\n",
       "    </tr>\n",
       "    <tr>\n",
       "      <th>2018-05-22</th>\n",
       "      <td>54.178001</td>\n",
       "      <td>54.329498</td>\n",
       "      <td>53.334499</td>\n",
       "      <td>53.486500</td>\n",
       "      <td>53.486500</td>\n",
       "      <td>21800000.0</td>\n",
       "    </tr>\n",
       "    <tr>\n",
       "      <th>2018-05-23</th>\n",
       "      <td>53.256500</td>\n",
       "      <td>54.039001</td>\n",
       "      <td>53.085499</td>\n",
       "      <td>53.984501</td>\n",
       "      <td>53.984501</td>\n",
       "      <td>21214000.0</td>\n",
       "    </tr>\n",
       "  </tbody>\n",
       "</table>\n",
       "</div>"
      ],
      "text/plain": [
       "                 Open       High        Low      Close  Adj Close      Volume\n",
       "Date                                                                         \n",
       "2018-05-17  53.994499  54.343498  53.674999  53.929501  53.929501  20876000.0\n",
       "2018-05-18  53.092999  53.497002  53.034000  53.318001  53.318001  31304000.0\n",
       "2018-05-21  53.702999  54.400002  53.682499  53.979000  53.979000  20464000.0\n",
       "2018-05-22  54.178001  54.329498  53.334499  53.486500  53.486500  21800000.0\n",
       "2018-05-23  53.256500  54.039001  53.085499  53.984501  53.984501  21214000.0"
      ]
     },
     "execution_count": 3,
     "metadata": {},
     "output_type": "execute_result"
    }
   ],
   "source": [
    "CODE = 'GOOG'\n",
    "BASE_URL = f'https://query1.finance.yahoo.com/v7/finance/download/{CODE}'\n",
    "# Interval\n",
    "today = datetime.datetime.now()\n",
    "five_years_ago = today - datetime.timedelta(days=365*5)\n",
    "# Timestamps (as integer) for the interval\n",
    "period2 = int(today.timestamp())\n",
    "period1 = int(five_years_ago.timestamp())\n",
    "# Now get the dataframe\n",
    "df = pd.read_csv(\n",
    "    f'{BASE_URL}?period1={period1}&period2={period2}&interval=1d',\n",
    "    index_col='Date',\n",
    "    parse_dates=['Date'],\n",
    "    dtype=np.float32\n",
    ")\n",
    "df.head()"
   ]
  },
  {
   "cell_type": "markdown",
   "metadata": {},
   "source": [
    "El conjunto de datos que hemos descargado guarda la información del día. Nuestro objetivo será predecir el valor de cierre del día a partir de los datos de la semana pasada, para saber qué tipo de inversión nos conviene.\n",
    "\n",
    "Alimentaremos la red con datos de hace 10 días para ver si la memoria sobre cómo evolucionan los valores se traduce en una mejor predicción. Para ello, empezaremos creando 95 nuevas columnas con el contenido de las columnas en cada paso temporal consecutivo.\n",
    "\n",
    "Nótese que primero debemos ordenar el conjunto en orden ascendente para asegurarnos de que tenemos los días correctamente colocados. En segundo lugar, la primera"
   ]
  },
  {
   "cell_type": "code",
   "execution_count": 4,
   "metadata": {},
   "outputs": [
    {
     "data": {
      "text/html": [
       "<div>\n",
       "<style scoped>\n",
       "    .dataframe tbody tr th:only-of-type {\n",
       "        vertical-align: middle;\n",
       "    }\n",
       "\n",
       "    .dataframe tbody tr th {\n",
       "        vertical-align: top;\n",
       "    }\n",
       "\n",
       "    .dataframe thead th {\n",
       "        text-align: right;\n",
       "    }\n",
       "</style>\n",
       "<table border=\"1\" class=\"dataframe\">\n",
       "  <thead>\n",
       "    <tr style=\"text-align: right;\">\n",
       "      <th></th>\n",
       "      <th>Open</th>\n",
       "      <th>High</th>\n",
       "      <th>Low</th>\n",
       "      <th>Close</th>\n",
       "      <th>Adj Close</th>\n",
       "      <th>Volume</th>\n",
       "      <th>Open t-1</th>\n",
       "      <th>High t-1</th>\n",
       "      <th>Low t-1</th>\n",
       "      <th>Close t-1</th>\n",
       "      <th>...</th>\n",
       "      <th>Low t-8</th>\n",
       "      <th>Close t-8</th>\n",
       "      <th>Adj Close t-8</th>\n",
       "      <th>Volume t-8</th>\n",
       "      <th>Open t-9</th>\n",
       "      <th>High t-9</th>\n",
       "      <th>Low t-9</th>\n",
       "      <th>Close t-9</th>\n",
       "      <th>Adj Close t-9</th>\n",
       "      <th>Volume t-9</th>\n",
       "    </tr>\n",
       "    <tr>\n",
       "      <th>Date</th>\n",
       "      <th></th>\n",
       "      <th></th>\n",
       "      <th></th>\n",
       "      <th></th>\n",
       "      <th></th>\n",
       "      <th></th>\n",
       "      <th></th>\n",
       "      <th></th>\n",
       "      <th></th>\n",
       "      <th></th>\n",
       "      <th></th>\n",
       "      <th></th>\n",
       "      <th></th>\n",
       "      <th></th>\n",
       "      <th></th>\n",
       "      <th></th>\n",
       "      <th></th>\n",
       "      <th></th>\n",
       "      <th></th>\n",
       "      <th></th>\n",
       "      <th></th>\n",
       "    </tr>\n",
       "  </thead>\n",
       "  <tbody>\n",
       "    <tr>\n",
       "      <th>2018-05-31</th>\n",
       "      <td>53.377998</td>\n",
       "      <td>54.859501</td>\n",
       "      <td>53.377998</td>\n",
       "      <td>54.249500</td>\n",
       "      <td>54.249500</td>\n",
       "      <td>61766000.0</td>\n",
       "      <td>53.151501</td>\n",
       "      <td>53.460499</td>\n",
       "      <td>52.841499</td>\n",
       "      <td>53.389999</td>\n",
       "      <td>...</td>\n",
       "      <td>53.034000</td>\n",
       "      <td>53.318001</td>\n",
       "      <td>53.318001</td>\n",
       "      <td>31304000.0</td>\n",
       "      <td>53.994499</td>\n",
       "      <td>54.343498</td>\n",
       "      <td>53.674999</td>\n",
       "      <td>53.929501</td>\n",
       "      <td>53.929501</td>\n",
       "      <td>20876000.0</td>\n",
       "    </tr>\n",
       "    <tr>\n",
       "      <th>2018-06-01</th>\n",
       "      <td>54.967499</td>\n",
       "      <td>56.000000</td>\n",
       "      <td>54.924999</td>\n",
       "      <td>55.974998</td>\n",
       "      <td>55.974998</td>\n",
       "      <td>48432000.0</td>\n",
       "      <td>53.377998</td>\n",
       "      <td>54.859501</td>\n",
       "      <td>53.377998</td>\n",
       "      <td>54.249500</td>\n",
       "      <td>...</td>\n",
       "      <td>53.682499</td>\n",
       "      <td>53.979000</td>\n",
       "      <td>53.979000</td>\n",
       "      <td>20464000.0</td>\n",
       "      <td>53.092999</td>\n",
       "      <td>53.497002</td>\n",
       "      <td>53.034000</td>\n",
       "      <td>53.318001</td>\n",
       "      <td>53.318001</td>\n",
       "      <td>31304000.0</td>\n",
       "    </tr>\n",
       "    <tr>\n",
       "      <th>2018-06-04</th>\n",
       "      <td>56.116501</td>\n",
       "      <td>57.094501</td>\n",
       "      <td>56.100250</td>\n",
       "      <td>56.964500</td>\n",
       "      <td>56.964500</td>\n",
       "      <td>37792000.0</td>\n",
       "      <td>54.967499</td>\n",
       "      <td>56.000000</td>\n",
       "      <td>54.924999</td>\n",
       "      <td>55.974998</td>\n",
       "      <td>...</td>\n",
       "      <td>53.334499</td>\n",
       "      <td>53.486500</td>\n",
       "      <td>53.486500</td>\n",
       "      <td>21800000.0</td>\n",
       "      <td>53.702999</td>\n",
       "      <td>54.400002</td>\n",
       "      <td>53.682499</td>\n",
       "      <td>53.979000</td>\n",
       "      <td>53.979000</td>\n",
       "      <td>20464000.0</td>\n",
       "    </tr>\n",
       "    <tr>\n",
       "      <th>2018-06-05</th>\n",
       "      <td>57.049500</td>\n",
       "      <td>57.286900</td>\n",
       "      <td>56.659500</td>\n",
       "      <td>56.983002</td>\n",
       "      <td>56.983002</td>\n",
       "      <td>33560000.0</td>\n",
       "      <td>56.116501</td>\n",
       "      <td>57.094501</td>\n",
       "      <td>56.100250</td>\n",
       "      <td>56.964500</td>\n",
       "      <td>...</td>\n",
       "      <td>53.085499</td>\n",
       "      <td>53.984501</td>\n",
       "      <td>53.984501</td>\n",
       "      <td>21214000.0</td>\n",
       "      <td>54.178001</td>\n",
       "      <td>54.329498</td>\n",
       "      <td>53.334499</td>\n",
       "      <td>53.486500</td>\n",
       "      <td>53.486500</td>\n",
       "      <td>21800000.0</td>\n",
       "    </tr>\n",
       "    <tr>\n",
       "      <th>2018-06-06</th>\n",
       "      <td>57.108501</td>\n",
       "      <td>57.150002</td>\n",
       "      <td>56.287151</td>\n",
       "      <td>56.844002</td>\n",
       "      <td>56.844002</td>\n",
       "      <td>33964000.0</td>\n",
       "      <td>57.049500</td>\n",
       "      <td>57.286900</td>\n",
       "      <td>56.659500</td>\n",
       "      <td>56.983002</td>\n",
       "      <td>...</td>\n",
       "      <td>53.307499</td>\n",
       "      <td>53.962002</td>\n",
       "      <td>53.962002</td>\n",
       "      <td>15336000.0</td>\n",
       "      <td>53.256500</td>\n",
       "      <td>54.039001</td>\n",
       "      <td>53.085499</td>\n",
       "      <td>53.984501</td>\n",
       "      <td>53.984501</td>\n",
       "      <td>21214000.0</td>\n",
       "    </tr>\n",
       "  </tbody>\n",
       "</table>\n",
       "<p>5 rows × 60 columns</p>\n",
       "</div>"
      ],
      "text/plain": [
       "                 Open       High        Low      Close  Adj Close      Volume  \\\n",
       "Date                                                                            \n",
       "2018-05-31  53.377998  54.859501  53.377998  54.249500  54.249500  61766000.0   \n",
       "2018-06-01  54.967499  56.000000  54.924999  55.974998  55.974998  48432000.0   \n",
       "2018-06-04  56.116501  57.094501  56.100250  56.964500  56.964500  37792000.0   \n",
       "2018-06-05  57.049500  57.286900  56.659500  56.983002  56.983002  33560000.0   \n",
       "2018-06-06  57.108501  57.150002  56.287151  56.844002  56.844002  33964000.0   \n",
       "\n",
       "             Open t-1   High t-1    Low t-1  Close t-1  ...    Low t-8  \\\n",
       "Date                                                    ...              \n",
       "2018-05-31  53.151501  53.460499  52.841499  53.389999  ...  53.034000   \n",
       "2018-06-01  53.377998  54.859501  53.377998  54.249500  ...  53.682499   \n",
       "2018-06-04  54.967499  56.000000  54.924999  55.974998  ...  53.334499   \n",
       "2018-06-05  56.116501  57.094501  56.100250  56.964500  ...  53.085499   \n",
       "2018-06-06  57.049500  57.286900  56.659500  56.983002  ...  53.307499   \n",
       "\n",
       "            Close t-8  Adj Close t-8  Volume t-8   Open t-9   High t-9  \\\n",
       "Date                                                                     \n",
       "2018-05-31  53.318001      53.318001  31304000.0  53.994499  54.343498   \n",
       "2018-06-01  53.979000      53.979000  20464000.0  53.092999  53.497002   \n",
       "2018-06-04  53.486500      53.486500  21800000.0  53.702999  54.400002   \n",
       "2018-06-05  53.984501      53.984501  21214000.0  54.178001  54.329498   \n",
       "2018-06-06  53.962002      53.962002  15336000.0  53.256500  54.039001   \n",
       "\n",
       "              Low t-9  Close t-9  Adj Close t-9  Volume t-9  \n",
       "Date                                                         \n",
       "2018-05-31  53.674999  53.929501      53.929501  20876000.0  \n",
       "2018-06-01  53.034000  53.318001      53.318001  31304000.0  \n",
       "2018-06-04  53.682499  53.979000      53.979000  20464000.0  \n",
       "2018-06-05  53.334499  53.486500      53.486500  21800000.0  \n",
       "2018-06-06  53.085499  53.984501      53.984501  21214000.0  \n",
       "\n",
       "[5 rows x 60 columns]"
      ]
     },
     "execution_count": 4,
     "metadata": {},
     "output_type": "execute_result"
    }
   ],
   "source": [
    "SEQUENCE_LEN = 10\n",
    "\n",
    "df.sort_index(inplace=True)\n",
    "columns = df.columns\n",
    "for i in range(1, SEQUENCE_LEN):\n",
    "    for column in columns:\n",
    "        df[f'{column} t-{i}'] = df[column].shift(i)\n",
    "df.drop(df.head(SEQUENCE_LEN - 1).index, inplace=True)\n",
    "df.head()"
   ]
  },
  {
   "cell_type": "markdown",
   "metadata": {},
   "source": [
    "Continuaremos creando una nueva columna llamada `Y` con los valores de la columna `Close/Last` de una semana más tarde. Al igual que antes, las últimas 7 filas del conjunto de datos no nos servirán de nada, ya que no podemos ver el futuro, por lo que las eliminaremos."
   ]
  },
  {
   "cell_type": "code",
   "execution_count": 5,
   "metadata": {},
   "outputs": [
    {
     "data": {
      "text/html": [
       "<div>\n",
       "<style scoped>\n",
       "    .dataframe tbody tr th:only-of-type {\n",
       "        vertical-align: middle;\n",
       "    }\n",
       "\n",
       "    .dataframe tbody tr th {\n",
       "        vertical-align: top;\n",
       "    }\n",
       "\n",
       "    .dataframe thead th {\n",
       "        text-align: right;\n",
       "    }\n",
       "</style>\n",
       "<table border=\"1\" class=\"dataframe\">\n",
       "  <thead>\n",
       "    <tr style=\"text-align: right;\">\n",
       "      <th></th>\n",
       "      <th>Close</th>\n",
       "      <th>Y</th>\n",
       "    </tr>\n",
       "    <tr>\n",
       "      <th>Date</th>\n",
       "      <th></th>\n",
       "      <th></th>\n",
       "    </tr>\n",
       "  </thead>\n",
       "  <tbody>\n",
       "    <tr>\n",
       "      <th>2023-04-26</th>\n",
       "      <td>104.449997</td>\n",
       "      <td>106.214996</td>\n",
       "    </tr>\n",
       "    <tr>\n",
       "      <th>2023-04-27</th>\n",
       "      <td>108.370003</td>\n",
       "      <td>108.239998</td>\n",
       "    </tr>\n",
       "    <tr>\n",
       "      <th>2023-04-28</th>\n",
       "      <td>108.220001</td>\n",
       "      <td>107.940002</td>\n",
       "    </tr>\n",
       "    <tr>\n",
       "      <th>2023-05-01</th>\n",
       "      <td>107.709999</td>\n",
       "      <td>112.279999</td>\n",
       "    </tr>\n",
       "    <tr>\n",
       "      <th>2023-05-02</th>\n",
       "      <td>105.980003</td>\n",
       "      <td>116.900002</td>\n",
       "    </tr>\n",
       "    <tr>\n",
       "      <th>2023-05-03</th>\n",
       "      <td>106.120003</td>\n",
       "      <td>117.919998</td>\n",
       "    </tr>\n",
       "    <tr>\n",
       "      <th>2023-05-04</th>\n",
       "      <td>105.209999</td>\n",
       "      <td>116.959999</td>\n",
       "    </tr>\n",
       "    <tr>\n",
       "      <th>2023-05-05</th>\n",
       "      <td>106.214996</td>\n",
       "      <td>120.309998</td>\n",
       "    </tr>\n",
       "  </tbody>\n",
       "</table>\n",
       "</div>"
      ],
      "text/plain": [
       "                 Close           Y\n",
       "Date                              \n",
       "2023-04-26  104.449997  106.214996\n",
       "2023-04-27  108.370003  108.239998\n",
       "2023-04-28  108.220001  107.940002\n",
       "2023-05-01  107.709999  112.279999\n",
       "2023-05-02  105.980003  116.900002\n",
       "2023-05-03  106.120003  117.919998\n",
       "2023-05-04  105.209999  116.959999\n",
       "2023-05-05  106.214996  120.309998"
      ]
     },
     "execution_count": 5,
     "metadata": {},
     "output_type": "execute_result"
    }
   ],
   "source": [
    "DAYS_IN_FUTURE = 7\n",
    "\n",
    "df['Y'] = df['Close'].shift(-DAYS_IN_FUTURE)\n",
    "df.drop(df.tail(DAYS_IN_FUTURE).index, inplace=True)\n",
    "\n",
    "# Plot the dataset \n",
    "df[[c for c in df.columns if c in ('Close', 'Y')]].tail(DAYS_IN_FUTURE + 1)"
   ]
  },
  {
   "cell_type": "markdown",
   "metadata": {},
   "source": [
    "Vamos a extraer un conjunto de prueba para comprobar el comportamiento de nuestro modelo. Este estará compuesto por los últimos 100 días del _dataset_. Estos datos serán normalizados entre 0 y 1 con los normalizadores que hemos creado, y ya que estamos aprovecharemos y generaremos los datos de entrada y salida.\n",
    "\n",
    "Una nota; Para las redes recurrentes se espera que la entrada sea tridimensional, pero nuestro conjunto de datos es bidimensional. Tenemos que transformarlo a tridimensional, manteniendo la última dimensión de tamaño 1."
   ]
  },
  {
   "cell_type": "code",
   "execution_count": 6,
   "metadata": {},
   "outputs": [],
   "source": [
    "TEST_SIZE = 100\n",
    "\n",
    "train_df, test_df = df.iloc[:-TEST_SIZE,:], df.iloc[-TEST_SIZE:,:]"
   ]
  },
  {
   "cell_type": "markdown",
   "metadata": {
    "slideshow": {
     "slide_type": "slide"
    }
   },
   "source": [
    "Ahora normalizaremos los valores entre 0 y 1 para que el impacto de las entradas sea similar y no haya ninguna que destaque. Para ello haremos uso de la clase `MinMaxScaler`, que además de normalizar, mantiene el estado para que también podamos usarlo como mecanismo de desnormalización."
   ]
  },
  {
   "cell_type": "code",
   "execution_count": 8,
   "metadata": {},
   "outputs": [
    {
     "data": {
      "text/html": [
       "<div>\n",
       "<style scoped>\n",
       "    .dataframe tbody tr th:only-of-type {\n",
       "        vertical-align: middle;\n",
       "    }\n",
       "\n",
       "    .dataframe tbody tr th {\n",
       "        vertical-align: top;\n",
       "    }\n",
       "\n",
       "    .dataframe thead th {\n",
       "        text-align: right;\n",
       "    }\n",
       "</style>\n",
       "<table border=\"1\" class=\"dataframe\">\n",
       "  <thead>\n",
       "    <tr style=\"text-align: right;\">\n",
       "      <th></th>\n",
       "      <th>Open</th>\n",
       "      <th>High</th>\n",
       "      <th>Low</th>\n",
       "      <th>Close</th>\n",
       "      <th>Adj Close</th>\n",
       "      <th>Volume</th>\n",
       "      <th>Open t-1</th>\n",
       "      <th>High t-1</th>\n",
       "      <th>Low t-1</th>\n",
       "      <th>Close t-1</th>\n",
       "      <th>...</th>\n",
       "      <th>Close t-8</th>\n",
       "      <th>Adj Close t-8</th>\n",
       "      <th>Volume t-8</th>\n",
       "      <th>Open t-9</th>\n",
       "      <th>High t-9</th>\n",
       "      <th>Low t-9</th>\n",
       "      <th>Close t-9</th>\n",
       "      <th>Adj Close t-9</th>\n",
       "      <th>Volume t-9</th>\n",
       "      <th>Y</th>\n",
       "    </tr>\n",
       "    <tr>\n",
       "      <th>Date</th>\n",
       "      <th></th>\n",
       "      <th></th>\n",
       "      <th></th>\n",
       "      <th></th>\n",
       "      <th></th>\n",
       "      <th></th>\n",
       "      <th></th>\n",
       "      <th></th>\n",
       "      <th></th>\n",
       "      <th></th>\n",
       "      <th></th>\n",
       "      <th></th>\n",
       "      <th></th>\n",
       "      <th></th>\n",
       "      <th></th>\n",
       "      <th></th>\n",
       "      <th></th>\n",
       "      <th></th>\n",
       "      <th></th>\n",
       "      <th></th>\n",
       "      <th></th>\n",
       "    </tr>\n",
       "  </thead>\n",
       "  <tbody>\n",
       "    <tr>\n",
       "      <th>2018-05-31</th>\n",
       "      <td>53.377998</td>\n",
       "      <td>54.859501</td>\n",
       "      <td>53.377998</td>\n",
       "      <td>54.249500</td>\n",
       "      <td>54.249500</td>\n",
       "      <td>61766000.0</td>\n",
       "      <td>53.151501</td>\n",
       "      <td>53.460499</td>\n",
       "      <td>52.841499</td>\n",
       "      <td>53.389999</td>\n",
       "      <td>...</td>\n",
       "      <td>53.318001</td>\n",
       "      <td>53.318001</td>\n",
       "      <td>31304000.0</td>\n",
       "      <td>53.994499</td>\n",
       "      <td>54.343498</td>\n",
       "      <td>53.674999</td>\n",
       "      <td>53.929501</td>\n",
       "      <td>53.929501</td>\n",
       "      <td>20876000.0</td>\n",
       "      <td>56.499500</td>\n",
       "    </tr>\n",
       "    <tr>\n",
       "      <th>2018-06-01</th>\n",
       "      <td>54.967499</td>\n",
       "      <td>56.000000</td>\n",
       "      <td>54.924999</td>\n",
       "      <td>55.974998</td>\n",
       "      <td>55.974998</td>\n",
       "      <td>48432000.0</td>\n",
       "      <td>53.377998</td>\n",
       "      <td>54.859501</td>\n",
       "      <td>53.377998</td>\n",
       "      <td>54.249500</td>\n",
       "      <td>...</td>\n",
       "      <td>53.979000</td>\n",
       "      <td>53.979000</td>\n",
       "      <td>20464000.0</td>\n",
       "      <td>53.092999</td>\n",
       "      <td>53.497002</td>\n",
       "      <td>53.034000</td>\n",
       "      <td>53.318001</td>\n",
       "      <td>53.318001</td>\n",
       "      <td>31304000.0</td>\n",
       "      <td>56.966000</td>\n",
       "    </tr>\n",
       "    <tr>\n",
       "      <th>2018-06-04</th>\n",
       "      <td>56.116501</td>\n",
       "      <td>57.094501</td>\n",
       "      <td>56.100250</td>\n",
       "      <td>56.964500</td>\n",
       "      <td>56.964500</td>\n",
       "      <td>37792000.0</td>\n",
       "      <td>54.967499</td>\n",
       "      <td>56.000000</td>\n",
       "      <td>54.924999</td>\n",
       "      <td>55.974998</td>\n",
       "      <td>...</td>\n",
       "      <td>53.486500</td>\n",
       "      <td>53.486500</td>\n",
       "      <td>21800000.0</td>\n",
       "      <td>53.702999</td>\n",
       "      <td>54.400002</td>\n",
       "      <td>53.682499</td>\n",
       "      <td>53.979000</td>\n",
       "      <td>53.979000</td>\n",
       "      <td>20464000.0</td>\n",
       "      <td>56.739498</td>\n",
       "    </tr>\n",
       "    <tr>\n",
       "      <th>2018-06-05</th>\n",
       "      <td>57.049500</td>\n",
       "      <td>57.286900</td>\n",
       "      <td>56.659500</td>\n",
       "      <td>56.983002</td>\n",
       "      <td>56.983002</td>\n",
       "      <td>33560000.0</td>\n",
       "      <td>56.116501</td>\n",
       "      <td>57.094501</td>\n",
       "      <td>56.100250</td>\n",
       "      <td>56.964500</td>\n",
       "      <td>...</td>\n",
       "      <td>53.984501</td>\n",
       "      <td>53.984501</td>\n",
       "      <td>21214000.0</td>\n",
       "      <td>54.178001</td>\n",
       "      <td>54.329498</td>\n",
       "      <td>53.334499</td>\n",
       "      <td>53.486500</td>\n",
       "      <td>53.486500</td>\n",
       "      <td>21800000.0</td>\n",
       "      <td>57.605999</td>\n",
       "    </tr>\n",
       "    <tr>\n",
       "      <th>2018-06-06</th>\n",
       "      <td>57.108501</td>\n",
       "      <td>57.150002</td>\n",
       "      <td>56.287151</td>\n",
       "      <td>56.844002</td>\n",
       "      <td>56.844002</td>\n",
       "      <td>33964000.0</td>\n",
       "      <td>57.049500</td>\n",
       "      <td>57.286900</td>\n",
       "      <td>56.659500</td>\n",
       "      <td>56.983002</td>\n",
       "      <td>...</td>\n",
       "      <td>53.962002</td>\n",
       "      <td>53.962002</td>\n",
       "      <td>15336000.0</td>\n",
       "      <td>53.256500</td>\n",
       "      <td>54.039001</td>\n",
       "      <td>53.085499</td>\n",
       "      <td>53.984501</td>\n",
       "      <td>53.984501</td>\n",
       "      <td>21214000.0</td>\n",
       "      <td>57.612999</td>\n",
       "    </tr>\n",
       "  </tbody>\n",
       "</table>\n",
       "<p>5 rows × 61 columns</p>\n",
       "</div>"
      ],
      "text/plain": [
       "                 Open       High        Low      Close  Adj Close      Volume  \\\n",
       "Date                                                                            \n",
       "2018-05-31  53.377998  54.859501  53.377998  54.249500  54.249500  61766000.0   \n",
       "2018-06-01  54.967499  56.000000  54.924999  55.974998  55.974998  48432000.0   \n",
       "2018-06-04  56.116501  57.094501  56.100250  56.964500  56.964500  37792000.0   \n",
       "2018-06-05  57.049500  57.286900  56.659500  56.983002  56.983002  33560000.0   \n",
       "2018-06-06  57.108501  57.150002  56.287151  56.844002  56.844002  33964000.0   \n",
       "\n",
       "             Open t-1   High t-1    Low t-1  Close t-1  ...  Close t-8  \\\n",
       "Date                                                    ...              \n",
       "2018-05-31  53.151501  53.460499  52.841499  53.389999  ...  53.318001   \n",
       "2018-06-01  53.377998  54.859501  53.377998  54.249500  ...  53.979000   \n",
       "2018-06-04  54.967499  56.000000  54.924999  55.974998  ...  53.486500   \n",
       "2018-06-05  56.116501  57.094501  56.100250  56.964500  ...  53.984501   \n",
       "2018-06-06  57.049500  57.286900  56.659500  56.983002  ...  53.962002   \n",
       "\n",
       "            Adj Close t-8  Volume t-8   Open t-9   High t-9    Low t-9  \\\n",
       "Date                                                                     \n",
       "2018-05-31      53.318001  31304000.0  53.994499  54.343498  53.674999   \n",
       "2018-06-01      53.979000  20464000.0  53.092999  53.497002  53.034000   \n",
       "2018-06-04      53.486500  21800000.0  53.702999  54.400002  53.682499   \n",
       "2018-06-05      53.984501  21214000.0  54.178001  54.329498  53.334499   \n",
       "2018-06-06      53.962002  15336000.0  53.256500  54.039001  53.085499   \n",
       "\n",
       "            Close t-9  Adj Close t-9  Volume t-9          Y  \n",
       "Date                                                         \n",
       "2018-05-31  53.929501      53.929501  20876000.0  56.499500  \n",
       "2018-06-01  53.318001      53.318001  31304000.0  56.966000  \n",
       "2018-06-04  53.979000      53.979000  20464000.0  56.739498  \n",
       "2018-06-05  53.486500      53.486500  21800000.0  57.605999  \n",
       "2018-06-06  53.984501      53.984501  21214000.0  57.612999  \n",
       "\n",
       "[5 rows x 61 columns]"
      ]
     },
     "execution_count": 8,
     "metadata": {},
     "output_type": "execute_result"
    }
   ],
   "source": [
    "input_scaler = MinMaxScaler(feature_range=(0, 1))\n",
    "input_scaler.fit(train_df.iloc[:,:-1])\n",
    "output_scaler = MinMaxScaler(feature_range=(0, 1))\n",
    "output_scaler.fit(train_df.iloc[:,-1:]);"
   ]
  },
  {
   "cell_type": "markdown",
   "metadata": {},
   "source": [
    "Nótese que al normalizar, hemos normalizado sólo con el conjunto de entrenamiento. La idea subyacente es que el conjunto de prueba debe ser desconocido no sólo al crear el modelo, sino también al trabajar con los datos.\n",
    "\n",
    "Ahora, vamos a ver en una gráfica a qué valores se corresponden estos conjuntos."
   ]
  },
  {
   "cell_type": "code",
   "execution_count": 12,
   "metadata": {},
   "outputs": [
    {
     "data": {
      "image/png": "[encoded data removed]",
      "text/plain": [
       "<Figure size 1280x384 with 1 Axes>"
      ]
     },
     "metadata": {},
     "output_type": "display_data"
    }
   ],
   "source": [
    "x_train, y_train = train_df.iloc[:,:-1], train_df.iloc[:,-1:]\n",
    "x_test, y_test = test_df.iloc[:,:-1], test_df.iloc[:,-1:]\n",
    "\n",
    "plt.plot(y_train, color='green', label='Train')\n",
    "plt.plot(y_test, color='red', label='Test')\n",
    "plt.title('GOOG Stock Price Datset')\n",
    "plt.xlabel('Day')\n",
    "plt.ylabel('GOOG Stock Price')\n",
    "plt.show()"
   ]
  },
  {
   "cell_type": "markdown",
   "metadata": {},
   "source": [
    "Finally, we will transform the data from the training and test sets."
   ]
  },
  {
   "cell_type": "code",
   "execution_count": 13,
   "metadata": {},
   "outputs": [
    {
     "name": "stdout",
     "output_type": "stream",
     "text": [
      "Dataset shape:      (1242, 61)\n",
      "Training: X shape = (1142, 10, 6); Y shape = (1142, 1)\n",
      "Test:     X shape = (100, 10, 6); Y shape = (100, 1)\n"
     ]
    }
   ],
   "source": [
    "x_train = input_scaler.transform(x_train)\n",
    "x_test = input_scaler.transform(x_test)\n",
    "y_train = output_scaler.transform(y_train)\n",
    "\n",
    "x_train = np.reshape(x_train, (\n",
    "    x_train.shape[0],                 # Examples\n",
    "    SEQUENCE_LEN,                     # Number of timesteps\n",
    "    x_train.shape[1] // SEQUENCE_LEN  # Number of components each sequence element\n",
    "))\n",
    "x_test = np.reshape(x_test, (x_test.shape[0], SEQUENCE_LEN, x_test.shape[1] // SEQUENCE_LEN))\n",
    "\n",
    "print(f'Dataset shape:      {df.shape}')\n",
    "print(f'Training: X shape = {x_train.shape}; Y shape = {y_train.shape}')\n",
    "print(f'Test:     X shape = {x_test.shape}; Y shape = {y_test.shape}')"
   ]
  },
  {
   "cell_type": "markdown",
   "metadata": {},
   "source": [
    "## Implementando y entrenando nuestro modelo"
   ]
  },
  {
   "cell_type": "markdown",
   "metadata": {
    "slideshow": {
     "slide_type": "slide"
    }
   },
   "source": [
    "Crearemos un modelo recurrente que, a partir de los datos de entrada (los datos bursátiles de un día determinado) sea capaz de inferir el valor de cierre del valor siete días después. Para ello, utilizaremos una unidad neuronal recurrente simple `SimpleRNN`.\n",
    "\n",
    "En concreto, la red que crearemos estará compuesta por dos capas de unidades recurrentes de 128 parámetros con una capa de abandono después de cada una de ellas, de la siguiente manera:\n",
    "\n",
    "`Input`->`SimpleRNN`->`Dropout`->`SimpleRnn`->`Dropout`->`Output`.\n",
    "\n",
    "Recuerda que cuando las unidades recurrentes se apilan unas sobre otras debemos utilizar el parámetro `return_sequences` para que se conecten a la secuencia completa, de lo contrario dará error."
   ]
  },
  {
   "cell_type": "code",
   "execution_count": 25,
   "metadata": {},
   "outputs": [
    {
     "name": "stdout",
     "output_type": "stream",
     "text": [
      "Model: \"sequential_4\"\n",
      "_________________________________________________________________\n",
      " Layer (type)                Output Shape              Param #   \n",
      "=================================================================\n",
      " simple_rnn_9 (SimpleRNN)    (None, 10, 128)           17280     \n",
      "                                                                 \n",
      " dropout_9 (Dropout)         (None, 10, 128)           0         \n",
      "                                                                 \n",
      " simple_rnn_10 (SimpleRNN)   (None, 10, 128)           32896     \n",
      "                                                                 \n",
      " dropout_10 (Dropout)        (None, 10, 128)           0         \n",
      "                                                                 \n",
      " simple_rnn_11 (SimpleRNN)   (None, 128)               32896     \n",
      "                                                                 \n",
      " dropout_11 (Dropout)        (None, 128)               0         \n",
      "                                                                 \n",
      " dense_4 (Dense)             (None, 1)                 129       \n",
      "                                                                 \n",
      "=================================================================\n",
      "Total params: 83,201\n",
      "Trainable params: 83,201\n",
      "Non-trainable params: 0\n",
      "_________________________________________________________________\n"
     ]
    }
   ],
   "source": [
    "model = tf.keras.models.Sequential([\n",
    "    tf.keras.layers.SimpleRNN(128, return_sequences=True, input_shape=x_train.shape[1:]),\n",
    "    tf.keras.layers.Dropout(0.2),\n",
    "    tf.keras.layers.SimpleRNN(128, return_sequences=True),\n",
    "    tf.keras.layers.Dropout(0.2),\n",
    "    tf.keras.layers.SimpleRNN(128),\n",
    "    tf.keras.layers.Dropout(0.2),\n",
    "    tf.keras.layers.Dense(1)\n",
    "])\n",
    "\n",
    "model.compile(loss='mse', optimizer='adam', metrics=[tf.keras.metrics.RootMeanSquaredError()])\n",
    "model.summary()"
   ]
  },
  {
   "cell_type": "markdown",
   "metadata": {
    "slideshow": {
     "slide_type": "fragment"
    }
   },
   "source": [
    "Ahora entrenaremos el modelo, a ver qué tal se comporta."
   ]
  },
  {
   "cell_type": "code",
   "execution_count": 26,
   "metadata": {},
   "outputs": [
    {
     "name": "stdout",
     "output_type": "stream",
     "text": [
      "Epoch 1/100\n",
      "36/36 [==============================] - 3s 11ms/step - loss: 0.4487 - root_mean_squared_error: 0.6698\n",
      "Epoch 2/100\n",
      "36/36 [==============================] - 0s 12ms/step - loss: 0.2026 - root_mean_squared_error: 0.4501\n",
      "Epoch 3/100\n",
      "36/36 [==============================] - 0s 12ms/step - loss: 0.1523 - root_mean_squared_error: 0.3902\n",
      "Epoch 4/100\n",
      "36/36 [==============================] - 1s 16ms/step - loss: 0.1036 - root_mean_squared_error: 0.3218\n",
      "Epoch 5/100\n",
      "36/36 [==============================] - 0s 12ms/step - loss: 0.0712 - root_mean_squared_error: 0.2668\n",
      "Epoch 6/100\n",
      "36/36 [==============================] - 0s 11ms/step - loss: 0.0591 - root_mean_squared_error: 0.2430\n",
      "Epoch 7/100\n",
      "36/36 [==============================] - 1s 21ms/step - loss: 0.0466 - root_mean_squared_error: 0.2158\n",
      "Epoch 8/100\n",
      "36/36 [==============================] - 1s 17ms/step - loss: 0.0468 - root_mean_squared_error: 0.2162\n",
      "Epoch 9/100\n",
      "36/36 [==============================] - 0s 12ms/step - loss: 0.0362 - root_mean_squared_error: 0.1902\n",
      "Epoch 10/100\n",
      "36/36 [==============================] - 0s 12ms/step - loss: 0.0339 - root_mean_squared_error: 0.1840\n",
      "Epoch 11/100\n",
      "36/36 [==============================] - 0s 13ms/step - loss: 0.0334 - root_mean_squared_error: 0.1827\n",
      "Epoch 12/100\n",
      "36/36 [==============================] - 0s 14ms/step - loss: 0.0257 - root_mean_squared_error: 0.1603\n",
      "Epoch 13/100\n",
      "36/36 [==============================] - 1s 18ms/step - loss: 0.0241 - root_mean_squared_error: 0.1551\n",
      "Epoch 14/100\n",
      "36/36 [==============================] - 0s 12ms/step - loss: 0.0209 - root_mean_squared_error: 0.1446\n",
      "Epoch 15/100\n",
      "36/36 [==============================] - 0s 14ms/step - loss: 0.0171 - root_mean_squared_error: 0.1308\n",
      "Epoch 16/100\n",
      "36/36 [==============================] - 0s 13ms/step - loss: 0.0185 - root_mean_squared_error: 0.1359\n",
      "Epoch 17/100\n",
      "36/36 [==============================] - 0s 13ms/step - loss: 0.0177 - root_mean_squared_error: 0.1331\n",
      "Epoch 18/100\n",
      "36/36 [==============================] - 1s 17ms/step - loss: 0.0157 - root_mean_squared_error: 0.1254\n",
      "Epoch 19/100\n",
      "36/36 [==============================] - 0s 13ms/step - loss: 0.0153 - root_mean_squared_error: 0.1237\n",
      "Epoch 20/100\n",
      "36/36 [==============================] - 0s 11ms/step - loss: 0.0161 - root_mean_squared_error: 0.1269\n",
      "Epoch 21/100\n",
      "36/36 [==============================] - 0s 11ms/step - loss: 0.0139 - root_mean_squared_error: 0.1178\n",
      "Epoch 22/100\n",
      "36/36 [==============================] - 1s 15ms/step - loss: 0.0148 - root_mean_squared_error: 0.1216\n",
      "Epoch 23/100\n",
      "36/36 [==============================] - 1s 18ms/step - loss: 0.0115 - root_mean_squared_error: 0.1072\n",
      "Epoch 24/100\n",
      "36/36 [==============================] - 0s 12ms/step - loss: 0.0116 - root_mean_squared_error: 0.1079\n",
      "Epoch 25/100\n",
      "36/36 [==============================] - 0s 14ms/step - loss: 0.0122 - root_mean_squared_error: 0.1103\n",
      "Epoch 26/100\n",
      "36/36 [==============================] - 1s 21ms/step - loss: 0.0113 - root_mean_squared_error: 0.1064\n",
      "Epoch 27/100\n",
      "36/36 [==============================] - 1s 17ms/step - loss: 0.0103 - root_mean_squared_error: 0.1014\n",
      "Epoch 28/100\n",
      "36/36 [==============================] - 0s 13ms/step - loss: 0.0099 - root_mean_squared_error: 0.0996\n",
      "Epoch 29/100\n",
      "36/36 [==============================] - 1s 18ms/step - loss: 0.0087 - root_mean_squared_error: 0.0931\n",
      "Epoch 30/100\n",
      "36/36 [==============================] - 1s 14ms/step - loss: 0.0088 - root_mean_squared_error: 0.0937\n",
      "Epoch 31/100\n",
      "36/36 [==============================] - 1s 20ms/step - loss: 0.0094 - root_mean_squared_error: 0.0969\n",
      "Epoch 32/100\n",
      "36/36 [==============================] - 1s 19ms/step - loss: 0.0087 - root_mean_squared_error: 0.0934\n",
      "Epoch 33/100\n",
      "36/36 [==============================] - 1s 16ms/step - loss: 0.0076 - root_mean_squared_error: 0.0870\n",
      "Epoch 34/100\n",
      "36/36 [==============================] - 0s 14ms/step - loss: 0.0074 - root_mean_squared_error: 0.0862\n",
      "Epoch 35/100\n",
      "36/36 [==============================] - 0s 12ms/step - loss: 0.0067 - root_mean_squared_error: 0.0819\n",
      "Epoch 36/100\n",
      "36/36 [==============================] - 0s 12ms/step - loss: 0.0060 - root_mean_squared_error: 0.0777\n",
      "Epoch 37/100\n",
      "36/36 [==============================] - 0s 12ms/step - loss: 0.0068 - root_mean_squared_error: 0.0825\n",
      "Epoch 38/100\n",
      "36/36 [==============================] - 0s 12ms/step - loss: 0.0067 - root_mean_squared_error: 0.0821\n",
      "Epoch 39/100\n",
      "36/36 [==============================] - 1s 22ms/step - loss: 0.0065 - root_mean_squared_error: 0.0806\n",
      "Epoch 40/100\n",
      "36/36 [==============================] - 0s 12ms/step - loss: 0.0059 - root_mean_squared_error: 0.0769\n",
      "Epoch 41/100\n",
      "36/36 [==============================] - 0s 12ms/step - loss: 0.0058 - root_mean_squared_error: 0.0760\n",
      "Epoch 42/100\n",
      "36/36 [==============================] - 1s 16ms/step - loss: 0.0060 - root_mean_squared_error: 0.0776\n",
      "Epoch 43/100\n",
      "36/36 [==============================] - 0s 12ms/step - loss: 0.0050 - root_mean_squared_error: 0.0710\n",
      "Epoch 44/100\n",
      "36/36 [==============================] - 0s 12ms/step - loss: 0.0060 - root_mean_squared_error: 0.0773\n",
      "Epoch 45/100\n",
      "36/36 [==============================] - 0s 11ms/step - loss: 0.0053 - root_mean_squared_error: 0.0729\n",
      "Epoch 46/100\n",
      "36/36 [==============================] - 0s 12ms/step - loss: 0.0050 - root_mean_squared_error: 0.0709\n",
      "Epoch 47/100\n",
      "36/36 [==============================] - 0s 13ms/step - loss: 0.0048 - root_mean_squared_error: 0.0696\n",
      "Epoch 48/100\n",
      "36/36 [==============================] - 1s 20ms/step - loss: 0.0048 - root_mean_squared_error: 0.0691\n",
      "Epoch 49/100\n",
      "36/36 [==============================] - 1s 19ms/step - loss: 0.0048 - root_mean_squared_error: 0.0692\n",
      "Epoch 50/100\n",
      "36/36 [==============================] - 0s 12ms/step - loss: 0.0047 - root_mean_squared_error: 0.0686\n",
      "Epoch 51/100\n",
      "36/36 [==============================] - 0s 11ms/step - loss: 0.0050 - root_mean_squared_error: 0.0704\n",
      "Epoch 52/100\n",
      "36/36 [==============================] - 0s 12ms/step - loss: 0.0056 - root_mean_squared_error: 0.0750\n",
      "Epoch 53/100\n",
      "36/36 [==============================] - 0s 12ms/step - loss: 0.0043 - root_mean_squared_error: 0.0658\n",
      "Epoch 54/100\n",
      "36/36 [==============================] - 1s 15ms/step - loss: 0.0046 - root_mean_squared_error: 0.0677\n",
      "Epoch 55/100\n",
      "36/36 [==============================] - 1s 18ms/step - loss: 0.0040 - root_mean_squared_error: 0.0636\n",
      "Epoch 56/100\n",
      "36/36 [==============================] - 1s 19ms/step - loss: 0.0046 - root_mean_squared_error: 0.0676\n",
      "Epoch 57/100\n",
      "36/36 [==============================] - 1s 20ms/step - loss: 0.0044 - root_mean_squared_error: 0.0660\n",
      "Epoch 58/100\n",
      "36/36 [==============================] - 1s 19ms/step - loss: 0.0042 - root_mean_squared_error: 0.0647\n",
      "Epoch 59/100\n",
      "36/36 [==============================] - 1s 14ms/step - loss: 0.0042 - root_mean_squared_error: 0.0645\n",
      "Epoch 60/100\n",
      "36/36 [==============================] - 0s 11ms/step - loss: 0.0042 - root_mean_squared_error: 0.0647\n",
      "Epoch 61/100\n",
      "36/36 [==============================] - 0s 12ms/step - loss: 0.0041 - root_mean_squared_error: 0.0638\n",
      "Epoch 62/100\n",
      "36/36 [==============================] - 0s 13ms/step - loss: 0.0042 - root_mean_squared_error: 0.0647\n",
      "Epoch 63/100\n",
      "36/36 [==============================] - 1s 15ms/step - loss: 0.0037 - root_mean_squared_error: 0.0612\n",
      "Epoch 64/100\n",
      "36/36 [==============================] - 1s 15ms/step - loss: 0.0039 - root_mean_squared_error: 0.0625\n",
      "Epoch 65/100\n",
      "36/36 [==============================] - 0s 11ms/step - loss: 0.0038 - root_mean_squared_error: 0.0616\n",
      "Epoch 66/100\n",
      "36/36 [==============================] - 1s 15ms/step - loss: 0.0038 - root_mean_squared_error: 0.0616\n",
      "Epoch 67/100\n",
      "36/36 [==============================] - 0s 13ms/step - loss: 0.0037 - root_mean_squared_error: 0.0612\n",
      "Epoch 68/100\n",
      "36/36 [==============================] - 0s 14ms/step - loss: 0.0036 - root_mean_squared_error: 0.0603\n",
      "Epoch 69/100\n",
      "36/36 [==============================] - 0s 13ms/step - loss: 0.0040 - root_mean_squared_error: 0.0632\n",
      "Epoch 70/100\n",
      "36/36 [==============================] - 0s 12ms/step - loss: 0.0035 - root_mean_squared_error: 0.0593\n",
      "Epoch 71/100\n",
      "36/36 [==============================] - 1s 14ms/step - loss: 0.0036 - root_mean_squared_error: 0.0598\n",
      "Epoch 72/100\n",
      "36/36 [==============================] - 0s 11ms/step - loss: 0.0037 - root_mean_squared_error: 0.0608\n",
      "Epoch 73/100\n",
      "36/36 [==============================] - 0s 13ms/step - loss: 0.0036 - root_mean_squared_error: 0.0600\n",
      "Epoch 74/100\n",
      "36/36 [==============================] - 0s 12ms/step - loss: 0.0039 - root_mean_squared_error: 0.0628\n",
      "Epoch 75/100\n",
      "36/36 [==============================] - 0s 12ms/step - loss: 0.0037 - root_mean_squared_error: 0.0612\n",
      "Epoch 76/100\n",
      "36/36 [==============================] - 0s 12ms/step - loss: 0.0039 - root_mean_squared_error: 0.0627\n",
      "Epoch 77/100\n",
      "36/36 [==============================] - 1s 14ms/step - loss: 0.0033 - root_mean_squared_error: 0.0572\n",
      "Epoch 78/100\n",
      "36/36 [==============================] - 0s 13ms/step - loss: 0.0034 - root_mean_squared_error: 0.0586\n",
      "Epoch 79/100\n",
      "36/36 [==============================] - 0s 12ms/step - loss: 0.0035 - root_mean_squared_error: 0.0595\n",
      "Epoch 80/100\n",
      "36/36 [==============================] - 0s 13ms/step - loss: 0.0034 - root_mean_squared_error: 0.0582\n",
      "Epoch 81/100\n",
      "36/36 [==============================] - 0s 12ms/step - loss: 0.0039 - root_mean_squared_error: 0.0621\n",
      "Epoch 82/100\n",
      "36/36 [==============================] - 0s 12ms/step - loss: 0.0033 - root_mean_squared_error: 0.0575\n",
      "Epoch 83/100\n",
      "36/36 [==============================] - 0s 12ms/step - loss: 0.0033 - root_mean_squared_error: 0.0578\n",
      "Epoch 84/100\n",
      "36/36 [==============================] - 0s 12ms/step - loss: 0.0037 - root_mean_squared_error: 0.0604\n",
      "Epoch 85/100\n",
      "36/36 [==============================] - 0s 13ms/step - loss: 0.0033 - root_mean_squared_error: 0.0577\n",
      "Epoch 86/100\n",
      "36/36 [==============================] - 0s 11ms/step - loss: 0.0035 - root_mean_squared_error: 0.0590\n",
      "Epoch 87/100\n",
      "36/36 [==============================] - 0s 12ms/step - loss: 0.0033 - root_mean_squared_error: 0.0570\n",
      "Epoch 88/100\n",
      "36/36 [==============================] - 0s 12ms/step - loss: 0.0034 - root_mean_squared_error: 0.0579\n",
      "Epoch 89/100\n",
      "36/36 [==============================] - 0s 13ms/step - loss: 0.0032 - root_mean_squared_error: 0.0562\n",
      "Epoch 90/100\n",
      "36/36 [==============================] - 0s 12ms/step - loss: 0.0034 - root_mean_squared_error: 0.0579\n",
      "Epoch 91/100\n",
      "36/36 [==============================] - 0s 13ms/step - loss: 0.0033 - root_mean_squared_error: 0.0578\n",
      "Epoch 92/100\n",
      "36/36 [==============================] - 0s 11ms/step - loss: 0.0035 - root_mean_squared_error: 0.0593\n",
      "Epoch 93/100\n",
      "36/36 [==============================] - 0s 11ms/step - loss: 0.0035 - root_mean_squared_error: 0.0590\n",
      "Epoch 94/100\n",
      "36/36 [==============================] - 1s 14ms/step - loss: 0.0032 - root_mean_squared_error: 0.0561\n",
      "Epoch 95/100\n",
      "36/36 [==============================] - 0s 14ms/step - loss: 0.0035 - root_mean_squared_error: 0.0592\n",
      "Epoch 96/100\n",
      "36/36 [==============================] - 0s 12ms/step - loss: 0.0034 - root_mean_squared_error: 0.0581\n",
      "Epoch 97/100\n",
      "36/36 [==============================] - 0s 12ms/step - loss: 0.0031 - root_mean_squared_error: 0.0557\n",
      "Epoch 98/100\n",
      "36/36 [==============================] - 0s 14ms/step - loss: 0.0030 - root_mean_squared_error: 0.0549\n",
      "Epoch 99/100\n",
      "36/36 [==============================] - 0s 11ms/step - loss: 0.0030 - root_mean_squared_error: 0.0543\n",
      "Epoch 100/100\n",
      "36/36 [==============================] - 0s 12ms/step - loss: 0.0031 - root_mean_squared_error: 0.0556\n"
     ]
    }
   ],
   "source": [
    "history = model.fit(x_train, y_train, epochs=100)"
   ]
  },
  {
   "cell_type": "code",
   "execution_count": 27,
   "metadata": {},
   "outputs": [
    {
     "data": {
      "image/png": "[encoded data removed]",
      "text/plain": [
       "<Figure size 1280x384 with 1 Axes>"
      ]
     },
     "metadata": {},
     "output_type": "display_data"
    }
   ],
   "source": [
    "plt.plot(history.history['root_mean_squared_error'])\n",
    "plt.ylabel('rmse')\n",
    "plt.xlabel('epoch')\n",
    "plt.show()"
   ]
  },
  {
   "cell_type": "markdown",
   "metadata": {},
   "source": [
    "No sólo no ha ido mal, ¡ha ido genial! Igual hasta nos hacemos ricos y todo..."
   ]
  },
  {
   "cell_type": "markdown",
   "metadata": {},
   "source": [
    "## Evaluando el modelo"
   ]
  },
  {
   "cell_type": "markdown",
   "metadata": {},
   "source": [
    "Finalmente vamos a predecir para el conjunto de test los valores de las acciones para luego compararlos con los valores de verdad.\n",
    "\n",
    "Una nota: los datos del test vienen con un índice de fecha (es un `Series` de pandas) mientras que la predicción viene como un array de `NumPy`. Hay que conseguir que ambos índices coincidan."
   ]
  },
  {
   "cell_type": "code",
   "execution_count": 29,
   "metadata": {},
   "outputs": [
    {
     "name": "stdout",
     "output_type": "stream",
     "text": [
      "4/4 [==============================] - 0s 5ms/step\n"
     ]
    },
    {
     "data": {
      "image/png": "[encoded data removed]",
      "text/plain": [
       "<Figure size 1280x384 with 1 Axes>"
      ]
     },
     "metadata": {},
     "output_type": "display_data"
    }
   ],
   "source": [
    "predicted = model.predict(x_test)\n",
    "# Denormalize the output\n",
    "predicted = output_scaler.inverse_transform(predicted)\n",
    "\n",
    "plt.plot(y_test.to_numpy(), label = 'Real')\n",
    "plt.plot(predicted, label = 'Predicted')\n",
    "plt.title('GOOG Stock Price Prediction')\n",
    "plt.xlabel('Day')\n",
    "plt.ylabel('GOOG Stock Price')\n",
    "plt.legend()\n",
    "plt.show();"
   ]
  },
  {
   "cell_type": "markdown",
   "metadata": {},
   "source": [
    "A la vista de los resultados, parece que está ocurriendo algo extraño... ¿Vamos a hacernos ricos o no? ¿Se te ocurre alguna explicación para esta curiosa predicción? ¿A alguien se le ocurre una alternativa?"
   ]
  },
  {
   "cell_type": "markdown",
   "metadata": {},
   "source": [
    "## Conclusiones"
   ]
  },
  {
   "cell_type": "markdown",
   "metadata": {},
   "source": [
    "Hemos visto cómo implementar redes neuronales recurrentes en un problema de series temporales puras. También hemos visto que no se comporta demasiado bien, pero no tiene por qué ser así (en este caso hay truco).\n",
    "\n",
    "Las series temporales mantienen correlaciones entre elementos consecutivos, y esas relaciones son las que aprenden las redes. Cuanto mayor sea la correlación (absoluta) entre elementos, más probabilidades tendrá la red de adivinarla. Sin embargo, las sucesiones de elementos valorados aleatoriamente (que no tienen nada que ver entre sí) no son problemas que puedan resolverse con este tipo de redes. Ni siquiera son series temporales por definición."
   ]
  },
  {
   "cell_type": "markdown",
   "metadata": {},
   "source": [
    "***\n",
    "\n",
    "<div><img style=\"float: right; width: 120px; vertical-align:top\" src=\"https://mirrors.creativecommons.org/presskit/buttons/88x31/png/by-nc-sa.png\" alt=\"Creative Commons by-nc-sa logo\" />\n",
    "\n",
    "[Back to top](#top)\n",
    "\n",
    "</div>"
   ]
  }
 ],
 "metadata": {
  "kernelspec": {
   "display_name": "Python 3 (ipykernel)",
   "language": "python",
   "name": "python3"
  },
  "language_info": {
   "codemirror_mode": {
    "name": "ipython",
    "version": 3
   },
   "file_extension": ".py",
   "mimetype": "text/x-python",
   "name": "python",
   "nbconvert_exporter": "python",
   "pygments_lexer": "ipython3",
   "version": "3.10.6"
  }
 },
 "nbformat": 4,
 "nbformat_minor": 2
}
