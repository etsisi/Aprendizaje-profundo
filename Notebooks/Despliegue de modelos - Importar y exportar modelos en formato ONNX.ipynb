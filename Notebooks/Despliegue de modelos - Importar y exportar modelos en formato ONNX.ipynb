{
 "cells": [
  {
   "cell_type": "markdown",
   "id": "d625056f",
   "metadata": {},
   "source": [
    "# Importar y exportar modelos en formato ONNX\n",
    "\n",
    "Vamos a usar el modelo corespondiente al propuesto en la práctica. Para ello, usaremos la librería `tf2onnx`, la continuación del proyecto `keras2onnx` que facilita enormemente la conversión entre formatos. Se instala de la siguiente manera.\n",
    "\n",
    "```bash\n",
    "$ pip install tf2onnx\n",
    "```\n",
    "\n",
    "Empezamos declarando las dependencias"
   ]
  },
  {
   "cell_type": "code",
   "execution_count": 1,
   "id": "831f9d39",
   "metadata": {},
   "outputs": [],
   "source": [
    "import numpy as np\n",
    "import onnx\n",
    "import tensorflow as tf\n",
    "import tf2onnx\n",
    "\n",
    "from onnx2keras import onnx_to_keras"
   ]
  },
  {
   "cell_type": "code",
   "execution_count": 2,
   "id": "1c728406",
   "metadata": {},
   "outputs": [
    {
     "data": {
      "application/javascript": [
       "IPython.OutputArea.prototype._should_scroll = function(lines) {\n",
       "    return false;\n",
       "}\n"
      ],
      "text/plain": [
       "<IPython.core.display.Javascript object>"
      ]
     },
     "metadata": {},
     "output_type": "display_data"
    }
   ],
   "source": [
    "%%javascript\n",
    "IPython.OutputArea.prototype._should_scroll = function(lines) {\n",
    "    return false;\n",
    "}"
   ]
  },
  {
   "cell_type": "markdown",
   "id": "b7682367",
   "metadata": {},
   "source": [
    "## Modelo de ejemplo\n",
    "\n",
    "Vamos a crear un perceptrón multicapa simple con el que trabajar. Lo entrenaremos antes con datos aleatorios para que todos los pesos tengan valores"
   ]
  },
  {
   "cell_type": "code",
   "execution_count": 3,
   "id": "e00f6177",
   "metadata": {},
   "outputs": [
    {
     "name": "stdout",
     "output_type": "stream",
     "text": [
      "Model: \"sequential\"\n",
      "_________________________________________________________________\n",
      "Layer (type)                 Output Shape              Param #   \n",
      "=================================================================\n",
      "dense (Dense)                (None, 128)               512       \n",
      "_________________________________________________________________\n",
      "dropout (Dropout)            (None, 128)               0         \n",
      "_________________________________________________________________\n",
      "dense_1 (Dense)              (None, 3)                 387       \n",
      "=================================================================\n",
      "Total params: 899\n",
      "Trainable params: 899\n",
      "Non-trainable params: 0\n",
      "_________________________________________________________________\n"
     ]
    }
   ],
   "source": [
    "X = np.random.random((1000, 3))\n",
    "y = np.eye(3)[np.random.choice(3, 1000)]\n",
    "\n",
    "model = tf.keras.models.Sequential([\n",
    "    tf.keras.layers.Dense(128, activation='relu', input_dim=3),\n",
    "    tf.keras.layers.Dropout(0.2),\n",
    "    tf.keras.layers.Dense(3, activation='softmax'),\n",
    "])\n",
    "\n",
    "model.compile(\n",
    "    loss='binary_crossentropy',\n",
    "    optimizer='sgd',\n",
    "    metrics=['accuracy'],\n",
    ")\n",
    "\n",
    "model.summary()\n",
    "\n",
    "model.fit(X, y, epochs=100, verbose=0);"
   ]
  },
  {
   "cell_type": "markdown",
   "id": "a6a634d9",
   "metadata": {},
   "source": [
    "## Conversión de modelo de Keras a ONNX\n"
   ]
  },
  {
   "cell_type": "code",
   "execution_count": 4,
   "id": "d0a640aa",
   "metadata": {},
   "outputs": [
    {
     "name": "stdout",
     "output_type": "stream",
     "text": [
      "WARNING:tensorflow:From /home/blazaid/.local/share/virtualenvs/deep-learning-99e-ingI/lib/python3.8/site-packages/tf2onnx/tf_loader.py:703: extract_sub_graph (from tensorflow.python.framework.graph_util_impl) is deprecated and will be removed in a future version.\n",
      "Instructions for updating:\n",
      "Use `tf.compat.v1.graph_util.extract_sub_graph`\n"
     ]
    }
   ],
   "source": [
    "model_proto, _ = tf2onnx.convert.from_keras(\n",
    "    model,\n",
    "    input_signature=(tf.TensorSpec((None, 3), name='input'),),\n",
    "    output_path='best-captcha-solver.onnx',\n",
    ")"
   ]
  },
  {
   "cell_type": "markdown",
   "id": "15c5ebc2",
   "metadata": {},
   "source": [
    "Y ya está, la verdad es que tampoco es mucho más complicado que esto."
   ]
  },
  {
   "cell_type": "markdown",
   "id": "164d5cc4",
   "metadata": {},
   "source": [
    "## Carga de modelo ONNX a Keras"
   ]
  },
  {
   "cell_type": "code",
   "execution_count": 5,
   "id": "9980d300",
   "metadata": {},
   "outputs": [
    {
     "name": "stderr",
     "output_type": "stream",
     "text": [
      "INFO:onnx2keras:Converter is called.\n",
      "DEBUG:onnx2keras:List input shapes:\n",
      "DEBUG:onnx2keras:None\n",
      "DEBUG:onnx2keras:List inputs:\n",
      "DEBUG:onnx2keras:Input 0 -> input.\n",
      "DEBUG:onnx2keras:List outputs:\n",
      "DEBUG:onnx2keras:Output 0 -> dense_1.\n",
      "DEBUG:onnx2keras:Gathering weights to dictionary.\n",
      "DEBUG:onnx2keras:Found weight sequential/dense_1/MatMul/ReadVariableOp:0 with shape (128, 3).\n",
      "DEBUG:onnx2keras:Found weight sequential/dense_1/BiasAdd/ReadVariableOp:0 with shape (3,).\n",
      "DEBUG:onnx2keras:Found weight sequential/dense/MatMul/ReadVariableOp:0 with shape (3, 128).\n",
      "DEBUG:onnx2keras:Found weight sequential/dense/BiasAdd/ReadVariableOp:0 with shape (128,).\n",
      "DEBUG:onnx2keras:Found input input with shape [3]\n",
      "DEBUG:onnx2keras:######\n",
      "DEBUG:onnx2keras:...\n",
      "DEBUG:onnx2keras:Converting ONNX operation\n",
      "DEBUG:onnx2keras:type: MatMul\n",
      "DEBUG:onnx2keras:node_name: sequential/dense/MatMul:0\n",
      "DEBUG:onnx2keras:node_params: {'change_ordering': False, 'name_policy': 'short'}\n",
      "DEBUG:onnx2keras:...\n",
      "DEBUG:onnx2keras:Check if all inputs are available:\n",
      "DEBUG:onnx2keras:Check input 0 (name input).\n",
      "DEBUG:onnx2keras:Check input 1 (name sequential/dense/MatMul/ReadVariableOp:0).\n",
      "DEBUG:onnx2keras:The input not found in layers / model inputs.\n",
      "DEBUG:onnx2keras:Found in weights, add as a numpy constant.\n",
      "DEBUG:onnx2keras:... found all, continue\n",
      "DEBUG:onnx2keras:gemm:Convert GEMM without bias.\n",
      "DEBUG:onnx2keras:gemm:Input units 3, output units 128.\n",
      "DEBUG:onnx2keras:######\n",
      "DEBUG:onnx2keras:...\n",
      "DEBUG:onnx2keras:Converting ONNX operation\n",
      "DEBUG:onnx2keras:type: Add\n",
      "DEBUG:onnx2keras:node_name: sequential/dense/BiasAdd:0\n",
      "DEBUG:onnx2keras:node_params: {'change_ordering': False, 'name_policy': 'short'}\n",
      "DEBUG:onnx2keras:...\n",
      "DEBUG:onnx2keras:Check if all inputs are available:\n",
      "DEBUG:onnx2keras:Check input 0 (name sequential/dense/MatMul:0).\n",
      "DEBUG:onnx2keras:Check input 1 (name sequential/dense/BiasAdd/ReadVariableOp:0).\n",
      "DEBUG:onnx2keras:The input not found in layers / model inputs.\n",
      "DEBUG:onnx2keras:Found in weights, add as a numpy constant.\n",
      "DEBUG:onnx2keras:... found all, continue\n",
      "DEBUG:onnx2keras:add:Convert inputs to Keras/TF layers if needed.\n",
      "WARNING:onnx2keras:add:Failed to use keras.layers.Add. Fallback to TF lambda.\n",
      "DEBUG:onnx2keras:######\n",
      "DEBUG:onnx2keras:...\n",
      "DEBUG:onnx2keras:Converting ONNX operation\n",
      "DEBUG:onnx2keras:type: Relu\n",
      "DEBUG:onnx2keras:node_name: sequential/dense/Relu:0\n",
      "DEBUG:onnx2keras:node_params: {'change_ordering': False, 'name_policy': 'short'}\n",
      "DEBUG:onnx2keras:...\n",
      "DEBUG:onnx2keras:Check if all inputs are available:\n",
      "DEBUG:onnx2keras:Check input 0 (name sequential/dense/BiasAdd:0).\n",
      "DEBUG:onnx2keras:... found all, continue\n",
      "DEBUG:onnx2keras:######\n",
      "DEBUG:onnx2keras:...\n",
      "DEBUG:onnx2keras:Converting ONNX operation\n",
      "DEBUG:onnx2keras:type: MatMul\n",
      "DEBUG:onnx2keras:node_name: sequential/dense_1/MatMul:0\n",
      "DEBUG:onnx2keras:node_params: {'change_ordering': False, 'name_policy': 'short'}\n",
      "DEBUG:onnx2keras:...\n",
      "DEBUG:onnx2keras:Check if all inputs are available:\n",
      "DEBUG:onnx2keras:Check input 0 (name sequential/dense/Relu:0).\n",
      "DEBUG:onnx2keras:Check input 1 (name sequential/dense_1/MatMul/ReadVariableOp:0).\n",
      "DEBUG:onnx2keras:The input not found in layers / model inputs.\n",
      "DEBUG:onnx2keras:Found in weights, add as a numpy constant.\n",
      "DEBUG:onnx2keras:... found all, continue\n",
      "DEBUG:onnx2keras:gemm:Convert GEMM without bias.\n",
      "DEBUG:onnx2keras:gemm:Input units 128, output units 3.\n",
      "DEBUG:onnx2keras:######\n",
      "DEBUG:onnx2keras:...\n",
      "DEBUG:onnx2keras:Converting ONNX operation\n",
      "DEBUG:onnx2keras:type: Add\n",
      "DEBUG:onnx2keras:node_name: sequential/dense_1/BiasAdd:0\n",
      "DEBUG:onnx2keras:node_params: {'change_ordering': False, 'name_policy': 'short'}\n",
      "DEBUG:onnx2keras:...\n",
      "DEBUG:onnx2keras:Check if all inputs are available:\n",
      "DEBUG:onnx2keras:Check input 0 (name sequential/dense_1/MatMul:0).\n",
      "DEBUG:onnx2keras:Check input 1 (name sequential/dense_1/BiasAdd/ReadVariableOp:0).\n",
      "DEBUG:onnx2keras:The input not found in layers / model inputs.\n",
      "DEBUG:onnx2keras:Found in weights, add as a numpy constant.\n",
      "DEBUG:onnx2keras:... found all, continue\n",
      "DEBUG:onnx2keras:add:Convert inputs to Keras/TF layers if needed.\n",
      "WARNING:onnx2keras:add:Failed to use keras.layers.Add. Fallback to TF lambda.\n",
      "DEBUG:onnx2keras:######\n",
      "DEBUG:onnx2keras:...\n",
      "DEBUG:onnx2keras:Converting ONNX operation\n",
      "DEBUG:onnx2keras:type: Softmax\n",
      "DEBUG:onnx2keras:node_name: dense_1\n",
      "DEBUG:onnx2keras:node_params: {'axis': 1, 'change_ordering': False, 'name_policy': 'short'}\n",
      "DEBUG:onnx2keras:...\n",
      "DEBUG:onnx2keras:Check if all inputs are available:\n",
      "DEBUG:onnx2keras:Check input 0 (name sequential/dense_1/BiasAdd:0).\n",
      "DEBUG:onnx2keras:... found all, continue\n",
      "DEBUG:onnx2keras:Output TF Layer -> KerasTensor(type_spec=TensorSpec(shape=(None, 3), dtype=tf.float32, name=None), name='dense_1/Softmax:0', description=\"created by layer 'dense_1'\")\n"
     ]
    },
    {
     "name": "stdout",
     "output_type": "stream",
     "text": [
      "Tensor(\"Placeholder:0\", shape=(None, 128), dtype=float32) Tensor(\"Placeholder_1:0\", shape=(128,), dtype=float32)\n",
      "Tensor(\"Placeholder:0\", shape=(None, 3), dtype=float32) Tensor(\"Placeholder_1:0\", shape=(3,), dtype=float32)\n",
      "Model: \"model\"\n",
      "__________________________________________________________________________________________________\n",
      "Layer (type)                    Output Shape         Param #     Connected to                     \n",
      "==================================================================================================\n",
      "input (InputLayer)              [(None, 3)]          0                                            \n",
      "__________________________________________________________________________________________________\n",
      "sequenti (Dense)                (None, 128)          384         input[0][0]                      \n",
      "__________________________________________________________________________________________________\n",
      "sequenti_1_const2 (Lambda)      (128,)               0           input[0][0]                      \n",
      "__________________________________________________________________________________________________\n",
      "sequenti_1 (Lambda)             (None, 128)          0           sequenti[0][0]                   \n",
      "                                                                 sequenti_1_const2[0][0]          \n",
      "__________________________________________________________________________________________________\n",
      "sequenti_2 (Activation)         (None, 128)          0           sequenti_1[0][0]                 \n",
      "__________________________________________________________________________________________________\n",
      "sequenti_3 (Dense)              (None, 3)            384         sequenti_2[0][0]                 \n",
      "__________________________________________________________________________________________________\n",
      "sequenti_4_const2 (Lambda)      (3,)                 0           input[0][0]                      \n",
      "__________________________________________________________________________________________________\n",
      "sequenti_4 (Lambda)             (None, 3)            0           sequenti_3[0][0]                 \n",
      "                                                                 sequenti_4_const2[0][0]          \n",
      "__________________________________________________________________________________________________\n",
      "dense_1 (Lambda)                (None, 3)            0           sequenti_4[0][0]                 \n",
      "==================================================================================================\n",
      "Total params: 768\n",
      "Trainable params: 768\n",
      "Non-trainable params: 0\n",
      "__________________________________________________________________________________________________\n",
      "(loss, acc) of keras model before loading: [0.6354878544807434, 0.3580000102519989]\n",
      "Tensor(\"model/sequenti/MatMul:0\", shape=(None, 128), dtype=float32) Tensor(\"model/sequenti_1_const2/Const:0\", shape=(128,), dtype=float32)\n",
      "Tensor(\"model/sequenti_3/MatMul:0\", shape=(None, 3), dtype=float32) Tensor(\"model/sequenti_4_const2/Const:0\", shape=(3,), dtype=float32)\n",
      "Tensor(\"model/sequenti/MatMul:0\", shape=(None, 128), dtype=float32) Tensor(\"model/sequenti_1_const2/Const:0\", shape=(128,), dtype=float32)\n",
      "Tensor(\"model/sequenti_3/MatMul:0\", shape=(None, 3), dtype=float32) Tensor(\"model/sequenti_4_const2/Const:0\", shape=(3,), dtype=float32)\n",
      "(loss, acc) of keras model after loading: [0.6348025798797607, 0.3580000102519989]\n"
     ]
    }
   ],
   "source": [
    "onnx_model = onnx.load('best-captcha-solver.onnx')\n",
    "keras_model = onnx_to_keras(\n",
    "    onnx_model, ['input'], \n",
    "    name_policy='short',\n",
    ")\n",
    "keras_model.compile(\n",
    "    loss='binary_crossentropy',\n",
    "    optimizer='sgd',\n",
    "    metrics=['accuracy'],\n",
    ")\n",
    "keras_model.summary()\n",
    "\n",
    "print(f'(loss, acc) of keras model before loading: {model.evaluate(X, y, verbose=0)}')\n",
    "print(f'(loss, acc) of keras model after loading: {keras_model.evaluate(X, y, verbose=0)}')"
   ]
  },
  {
   "cell_type": "markdown",
   "id": "900051c8",
   "metadata": {},
   "source": [
    "Dos notas a tener en cuenta sobre el estado de ONNX en la actualidad:\n",
    "\n",
    "- Los modelos salvados son optimizados. Esto implica que se realizan operaciones que **pueden alterar** los pesos de las conexiones (ligeramente, pero es un hecho)\n",
    "- No funcionará con todas las capas. Por ejemplo, las LSTM Bidireccionales aún no están soportadas\n",
    "\n",
    "En definitiva, es un estándar que está creciendo pero al que le faltan muchos detalles por apurar."
   ]
  },
  {
   "cell_type": "code",
   "execution_count": null,
   "id": "16e427f8",
   "metadata": {},
   "outputs": [],
   "source": []
  }
 ],
 "metadata": {
  "kernelspec": {
   "display_name": "Python 3 (ipykernel)",
   "language": "python",
   "name": "python3"
  },
  "language_info": {
   "codemirror_mode": {
    "name": "ipython",
    "version": 3
   },
   "file_extension": ".py",
   "mimetype": "text/x-python",
   "name": "python",
   "nbconvert_exporter": "python",
   "pygments_lexer": "ipython3",
   "version": "3.8.10"
  }
 },
 "nbformat": 4,
 "nbformat_minor": 5
}
