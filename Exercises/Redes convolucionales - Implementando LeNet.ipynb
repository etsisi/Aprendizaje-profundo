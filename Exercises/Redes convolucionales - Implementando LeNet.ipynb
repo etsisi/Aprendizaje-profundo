{
 "cells": [
  {
   "cell_type": "markdown",
   "metadata": {
    "id": "M27qF7CTrBqc"
   },
   "source": [
    "<div><img style=\"float: right; width: 120px; vertical-align:middle\" src=\"https://www.upm.es/sfs/Rectorado/Gabinete%20del%20Rector/Logos/EU_Informatica/ETSI%20SIST_INFORM_COLOR.png\" alt=\"ETSISI logo\" />\n",
    "\n",
    "# Implementando LeNet<a id=\"top\"></a>\n",
    "\n",
    "<i><small>Última actualización: 2024-03-07</small></i></div>\n",
    "\n",
    "***"
   ]
  },
  {
   "cell_type": "markdown",
   "metadata": {},
   "source": [
    "## Introducción"
   ]
  },
  {
   "cell_type": "markdown",
   "metadata": {},
   "source": [
    "En este notebook vamos a implementar la arquitectura de red neuronal convolucional LeNet, que fue una de las primeras redes neuronales convolucionales diseñada por Yann LeCun en 1998.\n",
    "\n",
    "En la actualidad, la arquitectura de LeNet es muy simple, pero fue revolucionaria en su momento y es la base de muchas de las redes neuronales convolucionales que se utilizan hoy en día."
   ]
  },
  {
   "cell_type": "markdown",
   "metadata": {},
   "source": [
    "## Objetivos"
   ]
  },
  {
   "cell_type": "markdown",
   "metadata": {},
   "source": [
    "El objetivo de este notebook es implementar la arquitectura de LeNet en PyTorch y entrenarla en el conjunto de datos Fashion MNIST."
   ]
  },
  {
   "cell_type": "markdown",
   "metadata": {},
   "source": [
    "## Bibliotecas y configuración"
   ]
  },
  {
   "cell_type": "markdown",
   "metadata": {},
   "source": [
    "A continuación importaremos las librerías que se utilizarán a lo largo del cuaderno."
   ]
  },
  {
   "cell_type": "code",
   "execution_count": null,
   "metadata": {},
   "outputs": [],
   "source": [
    "# AQUÍ LAS BIBLIOTECAS QUE NECESITEMOS\n",
    "import matplotlib.pyplot as plt\n",
    "import tensorflow as tf"
   ]
  },
  {
   "cell_type": "markdown",
   "metadata": {},
   "source": [
    "También configuraremos algunos parámetros para adaptar la presentación gráfica."
   ]
  },
  {
   "cell_type": "code",
   "execution_count": null,
   "metadata": {},
   "outputs": [],
   "source": [
    "plt.style.use('ggplot')\n",
    "plt.rcParams.update({'figure.figsize': (20, 6),'figure.dpi': 64})"
   ]
  },
  {
   "cell_type": "markdown",
   "metadata": {
    "id": "xNl52nl3qiyL"
   },
   "source": [
    "***"
   ]
  },
  {
   "cell_type": "markdown",
   "metadata": {},
   "source": [
    "## Carga y preparación de los datos"
   ]
  },
  {
   "cell_type": "markdown",
   "metadata": {},
   "source": [
    "En esta fase cargaremos el conjunto de datos Fashion MNIST y lo prepararemos para su uso en el entrenamiento y la evaluación de la red neuronal. Podemos obtenerlo directamente del paquete `datasets` de Keras de la siguiente forma:"
   ]
  },
  {
   "cell_type": "code",
   "execution_count": null,
   "metadata": {},
   "outputs": [],
   "source": [
    "# AQUÍ LA PREPARACIÓN DE DATOS. NO HACE FALTA QUE OS CIÑÁIS A UNA ÚNICA\n",
    "# CELDA, PODÉIS USAR TODAS LAS QUE QUERÁIS, INCLUIDAS DE TEXTO, PARA\n",
    "# EXPLICAR VUESTRO PROCESO.\n",
    "(x_train, y_train), (x_test, y_test) = fashion_mnist.load_data()"
   ]
  },
  {
   "cell_type": "markdown",
   "metadata": {
    "id": "LlszUhNNyrl_"
   },
   "source": [
    "## Creación y entrenamiento del modelo"
   ]
  },
  {
   "cell_type": "markdown",
   "metadata": {
    "id": "c37qqRNPr2BT"
   },
   "source": [
    "En esta fase crearemos la arquitectura de la red neuronal convolucional LeNet y la entrenaremos en el conjunto de datos Fashion MNIST.\n",
    "\n",
    "La descripción de la arquitectura de LeNet es la siguiente:\n",
    "\n",
    "1. Capa convolucional con 6 filtros de 5x5 píxeles y función de activación ReLU.\n",
    "2. Capa de pooling con una ventana de 2x2 píxeles y stride 2.\n",
    "3. Capa convolucional con 16 filtros de 5x5 píxeles y función de activación ReLU.\n",
    "4. Capa de pooling con una ventana de 2x2 píxeles y stride 2.\n",
    "5. Capa densa con 120 neuronas y función de activación ReLU.\n",
    "6. Capa densa con 84 neuronas y función de activación ReLU.\n",
    "7. Capa de salida con 10 neuronas y función de activación softmax.\n",
    "\n",
    "\n",
    "El modelo se entrenará durante 25 _apochs_ con un tamaño de _batch_ de 32 ejemplos."
   ]
  },
  {
   "cell_type": "code",
   "execution_count": null,
   "metadata": {
    "id": "TYcWopZVyvAs"
   },
   "outputs": [],
   "source": [
    "# AQUÍ LA CREACIÓN DEL MODELO, TANTO LA ARQUITECTURA COMO EL COMPILADO\n",
    "# Y EL ENTRENAMIENTO. AL IGUAL QUE EN EL CASO ANTERIOR, NO HACE FALTA\n",
    "# QUE OS CIÑÁIS A UNA ÚNICA CELDA. AL FINAL DE ESTA PARTE, DEBERÍAIS\n",
    "# TENER EL MODELO YA ENTRENADO Y VALIDADO."
   ]
  },
  {
   "cell_type": "markdown",
   "metadata": {
    "id": "Y0GmpAjG3GiH"
   },
   "source": [
    "## Evaluación del modelo"
   ]
  },
  {
   "cell_type": "markdown",
   "metadata": {},
   "source": [
    "Una vez entrenado el modelo, es necesario evaluar su eficacia en la clasificación de nuevos datos. Para ello, utilizaremos el conjunto de datos de test."
   ]
  },
  {
   "cell_type": "code",
   "execution_count": null,
   "metadata": {},
   "outputs": [],
   "source": [
    "# Aquí la evaluación del modelo"
   ]
  },
  {
   "cell_type": "markdown",
   "metadata": {},
   "source": [
    "***\n",
    "\n",
    "<div><img style=\"float: right; width: 120px; vertical-align:top\" src=\"https://mirrors.creativecommons.org/presskit/buttons/88x31/png/by-nc-sa.png\" alt=\"Creative Commons by-nc-sa logo\" />\n",
    "\n",
    "[Back to top](#top)\n",
    "\n",
    "</div>"
   ]
  }
 ],
 "metadata": {
  "colab": {
   "provenance": []
  },
  "kernelspec": {
   "display_name": "Python 3 (ipykernel)",
   "language": "python",
   "name": "python3"
  },
  "language_info": {
   "codemirror_mode": {
    "name": "ipython",
    "version": 3
   },
   "file_extension": ".py",
   "mimetype": "text/x-python",
   "name": "python",
   "nbconvert_exporter": "python",
   "pygments_lexer": "ipython3",
   "version": "3.10.13"
  }
 },
 "nbformat": 4,
 "nbformat_minor": 4
}
