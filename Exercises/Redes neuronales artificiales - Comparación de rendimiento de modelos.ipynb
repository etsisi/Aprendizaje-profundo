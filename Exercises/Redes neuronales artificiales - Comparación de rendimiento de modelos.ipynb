{
 "cells": [
  {
   "cell_type": "markdown",
   "id": "010176d1",
   "metadata": {},
   "source": [
    "<div><img style=\"float: right; width: 120px; vertical-align:middle\" src=\"https://www.upm.es/sfs/Rectorado/Gabinete%20del%20Rector/Logos/EU_Informatica/ETSI%20SIST_INFORM_COLOR.png\" alt=\"ETSISI logo\" />\n",
    "\n",
    "# Comparación de rendimiento de modelos<a id=\"top\"></a>\n",
    "\n",
    "<i><small>Última actualización: 2024-03-08</small></i></div>\n",
    "***"
   ]
  },
  {
   "cell_type": "markdown",
   "id": "554fb61b",
   "metadata": {},
   "source": [
    "## Enunciado"
   ]
  },
  {
   "cell_type": "markdown",
   "id": "35405b3c",
   "metadata": {},
   "source": [
    "Compara el rendimiento de tres modelos de redes neuronales para clasificar el conjunto de datos MNIST:\n",
    "\n",
    "- Un modelo sin capas ocultas.\n",
    "- Un modelo con tres capas ocultas de tipo tanh.\n",
    "- Un modelo con tres capas ocultas de tipo relu.\n",
    "- Un modelo con tres capas ocultas de activación lineal.\n",
    "\n",
    "Entrena cada uno de los modelos con el conjunto de entrenamiento de MNIST y evalúa su rendimiento en el conjunto de prueba utilizando la exactitud (_accuracy_) de clasificación.\n",
    "\n",
    "Ofrece un breve análisis de los resultados, incluyendo cualquier perspectiva sobre las ventajas y desventajas de cada tipo de función de activación para esta tarea."
   ]
  },
  {
   "cell_type": "markdown",
   "id": "04ae7100",
   "metadata": {},
   "source": [
    "***"
   ]
  },
  {
   "cell_type": "code",
   "execution_count": null,
   "id": "cf317af4",
   "metadata": {},
   "outputs": [],
   "source": [
    "# DESARROLLAR AQUÍ LA SOLUCIÓN, CON TODAS LAS CELDAS QUE CONSIDERÉIS\n",
    "# NECESARIAS (INCLUIDAS LAS DE TEXTO)"
   ]
  },
  {
   "cell_type": "markdown",
   "id": "582efec2",
   "metadata": {},
   "source": [
    "***\n",
    "\n",
    "<div><img style=\"float: right; width: 120px; vertical-align:top\" src=\"https://mirrors.creativecommons.org/presskit/buttons/88x31/png/by-nc-sa.png\" alt=\"Creative Commons by-nc-sa logo\" />\n",
    "\n",
    "[Back to top](#top)\n",
    "\n",
    "</div>"
   ]
  }
 ],
 "metadata": {
  "kernelspec": {
   "display_name": "Python 3 (ipykernel)",
   "language": "python",
   "name": "python3"
  },
  "language_info": {
   "codemirror_mode": {
    "name": "ipython",
    "version": 3
   },
   "file_extension": ".py",
   "mimetype": "text/x-python",
   "name": "python",
   "nbconvert_exporter": "python",
   "pygments_lexer": "ipython3",
   "version": "3.8.16"
  }
 },
 "nbformat": 4,
 "nbformat_minor": 5
}
