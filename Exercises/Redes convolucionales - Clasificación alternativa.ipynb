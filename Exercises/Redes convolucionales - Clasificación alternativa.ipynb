{
 "cells": [
  {
   "cell_type": "markdown",
   "id": "010176d1",
   "metadata": {},
   "source": [
    "<div><img style=\"float: right; width: 120px; vertical-align:middle\" src=\"https://www.upm.es/sfs/Rectorado/Gabinete%20del%20Rector/Logos/EU_Informatica/ETSI%20SIST_INFORM_COLOR.png\" alt=\"ETSISI logo\" />\n",
    "\n",
    "# Clasificación alternativa<a id=\"top\"></a>\n",
    "\n",
    "<i><small>Última actualización: 2023-04-21</small></i></div>\n",
    "***"
   ]
  },
  {
   "cell_type": "markdown",
   "id": "554fb61b",
   "metadata": {},
   "source": [
    "## Enunciado"
   ]
  },
  {
   "cell_type": "markdown",
   "id": "35405b3c",
   "metadata": {},
   "source": [
    "Entrenar una red neuronal para clasificar una versión modificada del conjunto de datos MNIST con cuatro clases:\n",
    "\n",
    "- Dígitos palo (1 y 7)\n",
    "- Dígitos retorcidos (0, 6, 8 y 9)\n",
    "- Dígitos sueltos (2 y 5)\n",
    "- Otros dígitos (3 y 4)\n",
    "\n",
    "Entrena la red neuronal utilizando el conjunto de entrenamiento y evalúa el rendimiento del modelo en el conjunto de _test_ mostrando la matriz de confusión. Describe de la precisión del modelo, analiza la matriz de confusión para identificar patrones o sesgos en la clasificación y por último, sugiere algunas posibles mejoras del modelo o del conjunto de datos para mejorar la precisión de la clasificación."
   ]
  },
  {
   "cell_type": "markdown",
   "id": "04ae7100",
   "metadata": {},
   "source": [
    "***"
   ]
  },
  {
   "cell_type": "code",
   "execution_count": 17,
   "id": "cf317af4",
   "metadata": {},
   "outputs": [],
   "source": [
    "import numpy as np\n",
    "import pandas as pd"
   ]
  },
  {
   "cell_type": "code",
   "execution_count": 16,
   "id": "204c8e84-a901-4ac1-97d6-06ed2345af8c",
   "metadata": {},
   "outputs": [
    {
     "data": {
      "text/html": [
       "<style type=\"text/css\">\n",
       "#T_e3892_row0_col0 {\n",
       "  background-color: #748bff;\n",
       "  color: #f1f1f1;\n",
       "}\n",
       "#T_e3892_row0_col1, #T_e3892_row0_col2, #T_e3892_row0_col3, #T_e3892_row1_col0, #T_e3892_row1_col2, #T_e3892_row1_col3, #T_e3892_row2_col0, #T_e3892_row2_col1, #T_e3892_row2_col3, #T_e3892_row3_col0, #T_e3892_row3_col1, #T_e3892_row3_col2 {\n",
       "  background-color: #ff00ff;\n",
       "  color: #f1f1f1;\n",
       "}\n",
       "#T_e3892_row1_col1 {\n",
       "  background-color: #19e6ff;\n",
       "  color: #000000;\n",
       "}\n",
       "#T_e3892_row2_col2 {\n",
       "  background-color: #49b6ff;\n",
       "  color: #000000;\n",
       "}\n",
       "#T_e3892_row3_col3 {\n",
       "  background-color: #00ffff;\n",
       "  color: #000000;\n",
       "}\n",
       "</style>\n",
       "<table id=\"T_e3892\">\n",
       "  <thead>\n",
       "    <tr>\n",
       "      <th class=\"blank level0\" >&nbsp;</th>\n",
       "      <th id=\"T_e3892_level0_col0\" class=\"col_heading level0 col0\" >0</th>\n",
       "      <th id=\"T_e3892_level0_col1\" class=\"col_heading level0 col1\" >1</th>\n",
       "      <th id=\"T_e3892_level0_col2\" class=\"col_heading level0 col2\" >2</th>\n",
       "      <th id=\"T_e3892_level0_col3\" class=\"col_heading level0 col3\" >3</th>\n",
       "    </tr>\n",
       "  </thead>\n",
       "  <tbody>\n",
       "    <tr>\n",
       "      <th id=\"T_e3892_level0_row0\" class=\"row_heading level0 row0\" >0</th>\n",
       "      <td id=\"T_e3892_row0_col0\" class=\"data row0 col0\" >1525</td>\n",
       "      <td id=\"T_e3892_row0_col1\" class=\"data row0 col1\" >0</td>\n",
       "      <td id=\"T_e3892_row0_col2\" class=\"data row0 col2\" >1</td>\n",
       "      <td id=\"T_e3892_row0_col3\" class=\"data row0 col3\" >0</td>\n",
       "    </tr>\n",
       "    <tr>\n",
       "      <th id=\"T_e3892_level0_row1\" class=\"row_heading level0 row1\" >1</th>\n",
       "      <td id=\"T_e3892_row1_col0\" class=\"data row1 col0\" >4</td>\n",
       "      <td id=\"T_e3892_row1_col1\" class=\"data row1 col1\" >2525</td>\n",
       "      <td id=\"T_e3892_row1_col2\" class=\"data row1 col2\" >5</td>\n",
       "      <td id=\"T_e3892_row1_col3\" class=\"data row1 col3\" >6</td>\n",
       "    </tr>\n",
       "    <tr>\n",
       "      <th id=\"T_e3892_level0_row2\" class=\"row_heading level0 row2\" >2</th>\n",
       "      <td id=\"T_e3892_row2_col0\" class=\"data row2 col0\" >1</td>\n",
       "      <td id=\"T_e3892_row2_col1\" class=\"data row2 col1\" >0</td>\n",
       "      <td id=\"T_e3892_row2_col2\" class=\"data row2 col2\" >1999</td>\n",
       "      <td id=\"T_e3892_row2_col3\" class=\"data row2 col3\" >1</td>\n",
       "    </tr>\n",
       "    <tr>\n",
       "      <th id=\"T_e3892_level0_row3\" class=\"row_heading level0 row3\" >3</th>\n",
       "      <td id=\"T_e3892_row3_col0\" class=\"data row3 col0\" >0</td>\n",
       "      <td id=\"T_e3892_row3_col1\" class=\"data row3 col1\" >9</td>\n",
       "      <td id=\"T_e3892_row3_col2\" class=\"data row3 col2\" >9</td>\n",
       "      <td id=\"T_e3892_row3_col3\" class=\"data row3 col3\" >2800</td>\n",
       "    </tr>\n",
       "  </tbody>\n",
       "</table>\n"
      ],
      "text/plain": [
       "<pandas.io.formats.style.Styler at 0x7f48a2a71000>"
      ]
     },
     "execution_count": 16,
     "metadata": {},
     "output_type": "execute_result"
    }
   ],
   "source": [
    "df = pd.DataFrame([[1525, 0, 1, 0], [4, 2525, 5, 6], [1, 0, 1999, 1], [0, 9, 9, 2800]])\n",
    "df.style.background_gradient(cmap='cool_r', axis=None)"
   ]
  },
  {
   "cell_type": "code",
   "execution_count": 23,
   "id": "d8d34235-4b48-4f36-b375-a37e7a418e5f",
   "metadata": {},
   "outputs": [
    {
     "data": {
      "text/plain": [
       "array([5, 4, 7, 7, 4, 8, 3, 3, 5, 5])"
      ]
     },
     "execution_count": 23,
     "metadata": {},
     "output_type": "execute_result"
    }
   ],
   "source": [
    "y_train = np.random.randint(0, 9, 10)\n",
    "y_train"
   ]
  },
  {
   "cell_type": "code",
   "execution_count": 28,
   "id": "498697c8-6962-4fc4-bda9-e2ce53dd467c",
   "metadata": {},
   "outputs": [
    {
     "data": {
      "text/plain": [
       "array([[0., 0., 0., 0.],\n",
       "       [0., 0., 0., 0.],\n",
       "       [0., 0., 0., 0.],\n",
       "       [0., 0., 0., 0.],\n",
       "       [0., 0., 0., 0.],\n",
       "       [0., 0., 0., 0.],\n",
       "       [0., 0., 0., 0.],\n",
       "       [0., 0., 0., 0.],\n",
       "       [0., 0., 0., 0.],\n",
       "       [0., 0., 0., 0.]])"
      ]
     },
     "execution_count": 28,
     "metadata": {},
     "output_type": "execute_result"
    }
   ],
   "source": [
    "new_y_train = np.zeros((len(y_train), 4))\n",
    "new_y_train"
   ]
  },
  {
   "cell_type": "code",
   "execution_count": 30,
   "id": "990715e1-0b09-44ea-96cc-77ecb3dc5009",
   "metadata": {},
   "outputs": [
    {
     "data": {
      "text/plain": [
       "array([[0., 0., 1., 0.],\n",
       "       [0., 0., 0., 1.],\n",
       "       [1., 0., 0., 0.],\n",
       "       [1., 0., 0., 0.],\n",
       "       [0., 0., 0., 1.],\n",
       "       [0., 1., 0., 0.],\n",
       "       [0., 0., 0., 1.],\n",
       "       [0., 0., 0., 1.],\n",
       "       [0., 0., 1., 0.],\n",
       "       [0., 0., 1., 0.]])"
      ]
     },
     "execution_count": 30,
     "metadata": {},
     "output_type": "execute_result"
    }
   ],
   "source": [
    "for old, new in zip(y_train, new_y_train):\n",
    "    if old in (1, 7):\n",
    "        new[0] = 1\n",
    "    elif old in (0, 6, 8, 9):\n",
    "        new[1] = 1\n",
    "    elif old in (2, 5):\n",
    "        new[2] = 1\n",
    "    else:\n",
    "        new[3] = 1\n",
    "new_y_train"
   ]
  },
  {
   "cell_type": "markdown",
   "id": "582efec2",
   "metadata": {},
   "source": [
    "***\n",
    "\n",
    "<div><img style=\"float: right; width: 120px; vertical-align:top\" src=\"https://mirrors.creativecommons.org/presskit/buttons/88x31/png/by-nc-sa.png\" alt=\"Creative Commons by-nc-sa logo\" />\n",
    "\n",
    "[Back to top](#top)\n",
    "\n",
    "</div>"
   ]
  }
 ],
 "metadata": {
  "kernelspec": {
   "display_name": "Python 3 (ipykernel)",
   "language": "python",
   "name": "python3"
  },
  "language_info": {
   "codemirror_mode": {
    "name": "ipython",
    "version": 3
   },
   "file_extension": ".py",
   "mimetype": "text/x-python",
   "name": "python",
   "nbconvert_exporter": "python",
   "pygments_lexer": "ipython3",
   "version": "3.10.13"
  }
 },
 "nbformat": 4,
 "nbformat_minor": 5
}
