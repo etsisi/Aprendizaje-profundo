{
 "cells": [
  {
   "cell_type": "markdown",
   "id": "010176d1",
   "metadata": {},
   "source": [
    "<div><img style=\"float: right; width: 120px; vertical-align:middle\" src=\"https://www.upm.es/sfs/Rectorado/Gabinete%20del%20Rector/Logos/EU_Informatica/ETSI%20SIST_INFORM_COLOR.png\" alt=\"ETSISI logo\" />\n",
    "\n",
    "# Clasificación alternativa<a id=\"top\"></a>\n",
    "\n",
    "<i><small>Última actualización: 2023-04-21</small></i></div>\n",
    "***"
   ]
  },
  {
   "cell_type": "markdown",
   "id": "554fb61b",
   "metadata": {},
   "source": [
    "## Enunciado"
   ]
  },
  {
   "cell_type": "markdown",
   "id": "35405b3c",
   "metadata": {},
   "source": [
    "Entrenar una red neuronal para clasificar una versión modificada del conjunto de datos MNIST con cuatro clases:\n",
    "\n",
    "- Dígitos palo (1, 4 y 7)\n",
    "- Dígitos cerradetes (0, 4, 6, 8 y 9)\n",
    "- Dígitos abiertos (2, 3 y 5)\n",
    "\n",
    "Entrena la red neuronal utilizando el conjunto de entrenamiento y evalúa el rendimiento del modelo en el conjunto de _test_ mostrando la matriz de confusión. Describe de la precisión del modelo, analiza la matriz de confusión para identificar patrones o sesgos en la clasificación y por último, sugiere algunas posibles mejoras del modelo o del conjunto de datos para mejorar la precisión de la clasificación."
   ]
  },
  {
   "cell_type": "markdown",
   "id": "04ae7100",
   "metadata": {},
   "source": [
    "***"
   ]
  },
  {
   "cell_type": "code",
   "execution_count": null,
   "id": "cf317af4",
   "metadata": {},
   "outputs": [],
   "source": []
  },
  {
   "cell_type": "markdown",
   "id": "582efec2",
   "metadata": {},
   "source": [
    "***\n",
    "\n",
    "<div><img style=\"float: right; width: 120px; vertical-align:top\" src=\"https://mirrors.creativecommons.org/presskit/buttons/88x31/png/by-nc-sa.png\" alt=\"Creative Commons by-nc-sa logo\" />\n",
    "\n",
    "[Back to top](#top)\n",
    "\n",
    "</div>"
   ]
  }
 ],
 "metadata": {
  "kernelspec": {
   "display_name": "Python 3 (ipykernel)",
   "language": "python",
   "name": "python3"
  },
  "language_info": {
   "codemirror_mode": {
    "name": "ipython",
    "version": 3
   },
   "file_extension": ".py",
   "mimetype": "text/x-python",
   "name": "python",
   "nbconvert_exporter": "python",
   "pygments_lexer": "ipython3",
   "version": "3.10.13"
  }
 },
 "nbformat": 4,
 "nbformat_minor": 5
}
